{
 "cells": [
  {
   "cell_type": "markdown",
   "id": "d7485d62",
   "metadata": {},
   "source": [
    "# Aviation Accidents Analysis\n",
    "\n",
    "You are part of a consulting firm that is tasked to do an analysis of commercial and passenger jet airline safety. The client (an airline/airplane insurer) is interested in knowing what types of aircraft (makes/models) exhibit low rates of total destruction and low likelihood of fatal or serious passenger injuries in the event of an accident. They are also interested in any general variables/conditions that might be at play. Your analysis will be based off of aviation accident data accumulated from the years 1948-2023. \n",
    "\n",
    "Our client is only interested in airplane makes/models that are professional builds and could potentially still be active. Assume a max lifetime of 40 years for a make/model retirement and make sure to filter your data accordingly (i.e. from 1983 onwards). They would also like separate recommendations for small aircraft vs. larger passenger models. **In addition, make sure that claims that you make are statistically robust and that you have enough samples when making comparisons between groups.**\n",
    "\n",
    "\n",
    "In this summative assessment you will demonstrate your ability to:\n",
    "- **Use Pandas to load, inspect, and clean the dataset appropriately.**\n",
    "- **Transform relevant columns to create measures that address the problem at hand.**\n",
    "- conduct EDA: visualization and statistical measures to systematically understand the structure of the data\n",
    "- recommend a set of airplanes and makes conforming to the client's request and identify at least *two* factors contributing to airplane safety. You must provide supporting evidence (visuals, summary statistics, tables) for each claim you make."
   ]
  },
  {
   "cell_type": "markdown",
   "id": "73e582c5",
   "metadata": {},
   "source": [
    "### Make relevant library imports"
   ]
  },
  {
   "cell_type": "code",
   "execution_count": 1,
   "id": "a72188a8",
   "metadata": {},
   "outputs": [],
   "source": [
    "import pandas as pd\n",
    "import numpy as np\n",
    "import matplotlib.pyplot as plt\n",
    "import seaborn as sns"
   ]
  },
  {
   "cell_type": "markdown",
   "id": "5b1fc321",
   "metadata": {},
   "source": [
    "## Data Loading and Inspection"
   ]
  },
  {
   "cell_type": "markdown",
   "id": "57becc28",
   "metadata": {},
   "source": [
    "### Load in data from the relevant directory and inspect the dataframe.\n",
    "- inspect NaNs, datatypes, and summary statistics"
   ]
  },
  {
   "cell_type": "code",
   "execution_count": 2,
   "id": "85235fa7",
   "metadata": {},
   "outputs": [
    {
     "data": {
      "text/html": [
       "<div>\n",
       "<style scoped>\n",
       "    .dataframe tbody tr th:only-of-type {\n",
       "        vertical-align: middle;\n",
       "    }\n",
       "\n",
       "    .dataframe tbody tr th {\n",
       "        vertical-align: top;\n",
       "    }\n",
       "\n",
       "    .dataframe thead th {\n",
       "        text-align: right;\n",
       "    }\n",
       "</style>\n",
       "<table border=\"1\" class=\"dataframe\">\n",
       "  <thead>\n",
       "    <tr style=\"text-align: right;\">\n",
       "      <th></th>\n",
       "      <th>Event.Id</th>\n",
       "      <th>Investigation.Type</th>\n",
       "      <th>Accident.Number</th>\n",
       "      <th>Event.Date</th>\n",
       "      <th>Location</th>\n",
       "      <th>Country</th>\n",
       "      <th>Latitude</th>\n",
       "      <th>Longitude</th>\n",
       "      <th>Airport.Code</th>\n",
       "      <th>Airport.Name</th>\n",
       "      <th>...</th>\n",
       "      <th>Purpose.of.flight</th>\n",
       "      <th>Air.carrier</th>\n",
       "      <th>Total.Fatal.Injuries</th>\n",
       "      <th>Total.Serious.Injuries</th>\n",
       "      <th>Total.Minor.Injuries</th>\n",
       "      <th>Total.Uninjured</th>\n",
       "      <th>Weather.Condition</th>\n",
       "      <th>Broad.phase.of.flight</th>\n",
       "      <th>Report.Status</th>\n",
       "      <th>Publication.Date</th>\n",
       "    </tr>\n",
       "  </thead>\n",
       "  <tbody>\n",
       "    <tr>\n",
       "      <th>0</th>\n",
       "      <td>20001218X45444</td>\n",
       "      <td>Accident</td>\n",
       "      <td>SEA87LA080</td>\n",
       "      <td>1948-10-24</td>\n",
       "      <td>MOOSE CREEK, ID</td>\n",
       "      <td>United States</td>\n",
       "      <td>NaN</td>\n",
       "      <td>NaN</td>\n",
       "      <td>NaN</td>\n",
       "      <td>NaN</td>\n",
       "      <td>...</td>\n",
       "      <td>Personal</td>\n",
       "      <td>NaN</td>\n",
       "      <td>2.0</td>\n",
       "      <td>0.0</td>\n",
       "      <td>0.0</td>\n",
       "      <td>0.0</td>\n",
       "      <td>UNK</td>\n",
       "      <td>Cruise</td>\n",
       "      <td>Probable Cause</td>\n",
       "      <td>NaN</td>\n",
       "    </tr>\n",
       "    <tr>\n",
       "      <th>1</th>\n",
       "      <td>20001218X45447</td>\n",
       "      <td>Accident</td>\n",
       "      <td>LAX94LA336</td>\n",
       "      <td>1962-07-19</td>\n",
       "      <td>BRIDGEPORT, CA</td>\n",
       "      <td>United States</td>\n",
       "      <td>NaN</td>\n",
       "      <td>NaN</td>\n",
       "      <td>NaN</td>\n",
       "      <td>NaN</td>\n",
       "      <td>...</td>\n",
       "      <td>Personal</td>\n",
       "      <td>NaN</td>\n",
       "      <td>4.0</td>\n",
       "      <td>0.0</td>\n",
       "      <td>0.0</td>\n",
       "      <td>0.0</td>\n",
       "      <td>UNK</td>\n",
       "      <td>Unknown</td>\n",
       "      <td>Probable Cause</td>\n",
       "      <td>19-09-1996</td>\n",
       "    </tr>\n",
       "    <tr>\n",
       "      <th>2</th>\n",
       "      <td>20061025X01555</td>\n",
       "      <td>Accident</td>\n",
       "      <td>NYC07LA005</td>\n",
       "      <td>1974-08-30</td>\n",
       "      <td>Saltville, VA</td>\n",
       "      <td>United States</td>\n",
       "      <td>36.922223</td>\n",
       "      <td>-81.878056</td>\n",
       "      <td>NaN</td>\n",
       "      <td>NaN</td>\n",
       "      <td>...</td>\n",
       "      <td>Personal</td>\n",
       "      <td>NaN</td>\n",
       "      <td>3.0</td>\n",
       "      <td>NaN</td>\n",
       "      <td>NaN</td>\n",
       "      <td>NaN</td>\n",
       "      <td>IMC</td>\n",
       "      <td>Cruise</td>\n",
       "      <td>Probable Cause</td>\n",
       "      <td>26-02-2007</td>\n",
       "    </tr>\n",
       "    <tr>\n",
       "      <th>3</th>\n",
       "      <td>20001218X45448</td>\n",
       "      <td>Accident</td>\n",
       "      <td>LAX96LA321</td>\n",
       "      <td>1977-06-19</td>\n",
       "      <td>EUREKA, CA</td>\n",
       "      <td>United States</td>\n",
       "      <td>NaN</td>\n",
       "      <td>NaN</td>\n",
       "      <td>NaN</td>\n",
       "      <td>NaN</td>\n",
       "      <td>...</td>\n",
       "      <td>Personal</td>\n",
       "      <td>NaN</td>\n",
       "      <td>2.0</td>\n",
       "      <td>0.0</td>\n",
       "      <td>0.0</td>\n",
       "      <td>0.0</td>\n",
       "      <td>IMC</td>\n",
       "      <td>Cruise</td>\n",
       "      <td>Probable Cause</td>\n",
       "      <td>12-09-2000</td>\n",
       "    </tr>\n",
       "    <tr>\n",
       "      <th>4</th>\n",
       "      <td>20041105X01764</td>\n",
       "      <td>Accident</td>\n",
       "      <td>CHI79FA064</td>\n",
       "      <td>1979-08-02</td>\n",
       "      <td>Canton, OH</td>\n",
       "      <td>United States</td>\n",
       "      <td>NaN</td>\n",
       "      <td>NaN</td>\n",
       "      <td>NaN</td>\n",
       "      <td>NaN</td>\n",
       "      <td>...</td>\n",
       "      <td>Personal</td>\n",
       "      <td>NaN</td>\n",
       "      <td>1.0</td>\n",
       "      <td>2.0</td>\n",
       "      <td>NaN</td>\n",
       "      <td>0.0</td>\n",
       "      <td>VMC</td>\n",
       "      <td>Approach</td>\n",
       "      <td>Probable Cause</td>\n",
       "      <td>16-04-1980</td>\n",
       "    </tr>\n",
       "  </tbody>\n",
       "</table>\n",
       "<p>5 rows × 31 columns</p>\n",
       "</div>"
      ],
      "text/plain": [
       "         Event.Id Investigation.Type Accident.Number  Event.Date  \\\n",
       "0  20001218X45444           Accident      SEA87LA080  1948-10-24   \n",
       "1  20001218X45447           Accident      LAX94LA336  1962-07-19   \n",
       "2  20061025X01555           Accident      NYC07LA005  1974-08-30   \n",
       "3  20001218X45448           Accident      LAX96LA321  1977-06-19   \n",
       "4  20041105X01764           Accident      CHI79FA064  1979-08-02   \n",
       "\n",
       "          Location        Country   Latitude   Longitude Airport.Code  \\\n",
       "0  MOOSE CREEK, ID  United States        NaN         NaN          NaN   \n",
       "1   BRIDGEPORT, CA  United States        NaN         NaN          NaN   \n",
       "2    Saltville, VA  United States  36.922223  -81.878056          NaN   \n",
       "3       EUREKA, CA  United States        NaN         NaN          NaN   \n",
       "4       Canton, OH  United States        NaN         NaN          NaN   \n",
       "\n",
       "  Airport.Name  ... Purpose.of.flight Air.carrier Total.Fatal.Injuries  \\\n",
       "0          NaN  ...          Personal         NaN                  2.0   \n",
       "1          NaN  ...          Personal         NaN                  4.0   \n",
       "2          NaN  ...          Personal         NaN                  3.0   \n",
       "3          NaN  ...          Personal         NaN                  2.0   \n",
       "4          NaN  ...          Personal         NaN                  1.0   \n",
       "\n",
       "  Total.Serious.Injuries Total.Minor.Injuries Total.Uninjured  \\\n",
       "0                    0.0                  0.0             0.0   \n",
       "1                    0.0                  0.0             0.0   \n",
       "2                    NaN                  NaN             NaN   \n",
       "3                    0.0                  0.0             0.0   \n",
       "4                    2.0                  NaN             0.0   \n",
       "\n",
       "  Weather.Condition  Broad.phase.of.flight   Report.Status Publication.Date  \n",
       "0               UNK                 Cruise  Probable Cause              NaN  \n",
       "1               UNK                Unknown  Probable Cause       19-09-1996  \n",
       "2               IMC                 Cruise  Probable Cause       26-02-2007  \n",
       "3               IMC                 Cruise  Probable Cause       12-09-2000  \n",
       "4               VMC               Approach  Probable Cause       16-04-1980  \n",
       "\n",
       "[5 rows x 31 columns]"
      ]
     },
     "execution_count": 2,
     "metadata": {},
     "output_type": "execute_result"
    }
   ],
   "source": [
    "# Reading in csv\n",
    "accidents_df = pd.read_csv(\"AviationData.csv\", encoding=\"latin-1\", low_memory=False)\n",
    "\n",
    "# Checking Data\n",
    "accidents_df.head()"
   ]
  },
  {
   "cell_type": "code",
   "execution_count": 3,
   "id": "44cb93ec-0969-4642-a31e-f7df19250805",
   "metadata": {},
   "outputs": [
    {
     "name": "stdout",
     "output_type": "stream",
     "text": [
      "<class 'pandas.core.frame.DataFrame'>\n",
      "RangeIndex: 88889 entries, 0 to 88888\n",
      "Data columns (total 31 columns):\n",
      " #   Column                  Non-Null Count  Dtype  \n",
      "---  ------                  --------------  -----  \n",
      " 0   Event.Id                88889 non-null  object \n",
      " 1   Investigation.Type      88889 non-null  object \n",
      " 2   Accident.Number         88889 non-null  object \n",
      " 3   Event.Date              88889 non-null  object \n",
      " 4   Location                88837 non-null  object \n",
      " 5   Country                 88663 non-null  object \n",
      " 6   Latitude                34382 non-null  object \n",
      " 7   Longitude               34373 non-null  object \n",
      " 8   Airport.Code            50132 non-null  object \n",
      " 9   Airport.Name            52704 non-null  object \n",
      " 10  Injury.Severity         87889 non-null  object \n",
      " 11  Aircraft.damage         85695 non-null  object \n",
      " 12  Aircraft.Category       32287 non-null  object \n",
      " 13  Registration.Number     87507 non-null  object \n",
      " 14  Make                    88826 non-null  object \n",
      " 15  Model                   88797 non-null  object \n",
      " 16  Amateur.Built           88787 non-null  object \n",
      " 17  Number.of.Engines       82805 non-null  float64\n",
      " 18  Engine.Type             81793 non-null  object \n",
      " 19  FAR.Description         32023 non-null  object \n",
      " 20  Schedule                12582 non-null  object \n",
      " 21  Purpose.of.flight       82697 non-null  object \n",
      " 22  Air.carrier             16648 non-null  object \n",
      " 23  Total.Fatal.Injuries    77488 non-null  float64\n",
      " 24  Total.Serious.Injuries  76379 non-null  float64\n",
      " 25  Total.Minor.Injuries    76956 non-null  float64\n",
      " 26  Total.Uninjured         82977 non-null  float64\n",
      " 27  Weather.Condition       84397 non-null  object \n",
      " 28  Broad.phase.of.flight   61724 non-null  object \n",
      " 29  Report.Status           82505 non-null  object \n",
      " 30  Publication.Date        75118 non-null  object \n",
      "dtypes: float64(5), object(26)\n",
      "memory usage: 21.0+ MB\n"
     ]
    }
   ],
   "source": [
    "# Getting DF info\n",
    "accidents_df.info()"
   ]
  },
  {
   "cell_type": "code",
   "execution_count": 4,
   "id": "2c0511a6-e103-4429-a114-b6da508e2565",
   "metadata": {},
   "outputs": [
    {
     "data": {
      "text/html": [
       "<div>\n",
       "<style scoped>\n",
       "    .dataframe tbody tr th:only-of-type {\n",
       "        vertical-align: middle;\n",
       "    }\n",
       "\n",
       "    .dataframe tbody tr th {\n",
       "        vertical-align: top;\n",
       "    }\n",
       "\n",
       "    .dataframe thead th {\n",
       "        text-align: right;\n",
       "    }\n",
       "</style>\n",
       "<table border=\"1\" class=\"dataframe\">\n",
       "  <thead>\n",
       "    <tr style=\"text-align: right;\">\n",
       "      <th></th>\n",
       "      <th>Event.Id</th>\n",
       "      <th>Investigation.Type</th>\n",
       "      <th>Accident.Number</th>\n",
       "      <th>Event.Date</th>\n",
       "      <th>Location</th>\n",
       "      <th>Country</th>\n",
       "      <th>Latitude</th>\n",
       "      <th>Longitude</th>\n",
       "      <th>Airport.Code</th>\n",
       "      <th>Airport.Name</th>\n",
       "      <th>...</th>\n",
       "      <th>Amateur.Built</th>\n",
       "      <th>Engine.Type</th>\n",
       "      <th>FAR.Description</th>\n",
       "      <th>Schedule</th>\n",
       "      <th>Purpose.of.flight</th>\n",
       "      <th>Air.carrier</th>\n",
       "      <th>Weather.Condition</th>\n",
       "      <th>Broad.phase.of.flight</th>\n",
       "      <th>Report.Status</th>\n",
       "      <th>Publication.Date</th>\n",
       "    </tr>\n",
       "  </thead>\n",
       "  <tbody>\n",
       "    <tr>\n",
       "      <th>count</th>\n",
       "      <td>88889</td>\n",
       "      <td>88889</td>\n",
       "      <td>88889</td>\n",
       "      <td>88889</td>\n",
       "      <td>88837</td>\n",
       "      <td>88663</td>\n",
       "      <td>34382</td>\n",
       "      <td>34373</td>\n",
       "      <td>50132</td>\n",
       "      <td>52704</td>\n",
       "      <td>...</td>\n",
       "      <td>88787</td>\n",
       "      <td>81793</td>\n",
       "      <td>32023</td>\n",
       "      <td>12582</td>\n",
       "      <td>82697</td>\n",
       "      <td>16648</td>\n",
       "      <td>84397</td>\n",
       "      <td>61724</td>\n",
       "      <td>82505</td>\n",
       "      <td>75118</td>\n",
       "    </tr>\n",
       "    <tr>\n",
       "      <th>unique</th>\n",
       "      <td>87951</td>\n",
       "      <td>2</td>\n",
       "      <td>88863</td>\n",
       "      <td>14782</td>\n",
       "      <td>27758</td>\n",
       "      <td>219</td>\n",
       "      <td>25589</td>\n",
       "      <td>27154</td>\n",
       "      <td>10374</td>\n",
       "      <td>24870</td>\n",
       "      <td>...</td>\n",
       "      <td>2</td>\n",
       "      <td>12</td>\n",
       "      <td>31</td>\n",
       "      <td>3</td>\n",
       "      <td>26</td>\n",
       "      <td>13590</td>\n",
       "      <td>4</td>\n",
       "      <td>12</td>\n",
       "      <td>17074</td>\n",
       "      <td>2924</td>\n",
       "    </tr>\n",
       "    <tr>\n",
       "      <th>top</th>\n",
       "      <td>20001212X19172</td>\n",
       "      <td>Accident</td>\n",
       "      <td>CEN22LA149</td>\n",
       "      <td>1984-06-30</td>\n",
       "      <td>ANCHORAGE, AK</td>\n",
       "      <td>United States</td>\n",
       "      <td>332739N</td>\n",
       "      <td>0112457W</td>\n",
       "      <td>NONE</td>\n",
       "      <td>Private</td>\n",
       "      <td>...</td>\n",
       "      <td>No</td>\n",
       "      <td>Reciprocating</td>\n",
       "      <td>091</td>\n",
       "      <td>NSCH</td>\n",
       "      <td>Personal</td>\n",
       "      <td>Pilot</td>\n",
       "      <td>VMC</td>\n",
       "      <td>Landing</td>\n",
       "      <td>Probable Cause</td>\n",
       "      <td>25-09-2020</td>\n",
       "    </tr>\n",
       "    <tr>\n",
       "      <th>freq</th>\n",
       "      <td>3</td>\n",
       "      <td>85015</td>\n",
       "      <td>2</td>\n",
       "      <td>25</td>\n",
       "      <td>434</td>\n",
       "      <td>82248</td>\n",
       "      <td>19</td>\n",
       "      <td>24</td>\n",
       "      <td>1488</td>\n",
       "      <td>240</td>\n",
       "      <td>...</td>\n",
       "      <td>80312</td>\n",
       "      <td>69530</td>\n",
       "      <td>18221</td>\n",
       "      <td>4474</td>\n",
       "      <td>49448</td>\n",
       "      <td>258</td>\n",
       "      <td>77303</td>\n",
       "      <td>15428</td>\n",
       "      <td>61754</td>\n",
       "      <td>17019</td>\n",
       "    </tr>\n",
       "  </tbody>\n",
       "</table>\n",
       "<p>4 rows × 26 columns</p>\n",
       "</div>"
      ],
      "text/plain": [
       "              Event.Id Investigation.Type Accident.Number  Event.Date  \\\n",
       "count            88889              88889           88889       88889   \n",
       "unique           87951                  2           88863       14782   \n",
       "top     20001212X19172           Accident      CEN22LA149  1984-06-30   \n",
       "freq                 3              85015               2          25   \n",
       "\n",
       "             Location        Country Latitude Longitude Airport.Code  \\\n",
       "count           88837          88663    34382     34373        50132   \n",
       "unique          27758            219    25589     27154        10374   \n",
       "top     ANCHORAGE, AK  United States  332739N  0112457W         NONE   \n",
       "freq              434          82248       19        24         1488   \n",
       "\n",
       "       Airport.Name  ... Amateur.Built    Engine.Type FAR.Description  \\\n",
       "count         52704  ...         88787          81793           32023   \n",
       "unique        24870  ...             2             12              31   \n",
       "top         Private  ...            No  Reciprocating             091   \n",
       "freq            240  ...         80312          69530           18221   \n",
       "\n",
       "       Schedule Purpose.of.flight Air.carrier Weather.Condition  \\\n",
       "count     12582             82697       16648             84397   \n",
       "unique        3                26       13590                 4   \n",
       "top        NSCH          Personal       Pilot               VMC   \n",
       "freq       4474             49448         258             77303   \n",
       "\n",
       "       Broad.phase.of.flight   Report.Status Publication.Date  \n",
       "count                  61724           82505            75118  \n",
       "unique                    12           17074             2924  \n",
       "top                  Landing  Probable Cause       25-09-2020  \n",
       "freq                   15428           61754            17019  \n",
       "\n",
       "[4 rows x 26 columns]"
      ]
     },
     "execution_count": 4,
     "metadata": {},
     "output_type": "execute_result"
    }
   ],
   "source": [
    "accidents_df.describe(include = \"object\")"
   ]
  },
  {
   "cell_type": "markdown",
   "id": "2e9b8cc7",
   "metadata": {},
   "source": [
    "## Data Cleaning"
   ]
  },
  {
   "cell_type": "markdown",
   "id": "c23efd78",
   "metadata": {},
   "source": [
    "### Filtering aircrafts and events"
   ]
  },
  {
   "cell_type": "markdown",
   "id": "9c399343",
   "metadata": {},
   "source": [
    "We want to filter the dataset to include aircraft that the client is interested in an analysis of:\n",
    "- inspect relevant columns\n",
    "- figure out any reasonable imputations\n",
    "- filter the dataset"
   ]
  },
  {
   "cell_type": "code",
   "execution_count": 5,
   "id": "4c28ee6d-c96f-4f06-8da2-ad4b9793b9cf",
   "metadata": {},
   "outputs": [],
   "source": [
    "# converting Event.Dates to Datetime dtype\n",
    "accidents_df[\"Event.Date\"] = pd.to_datetime(accidents_df[\"Event.Date\"])\n",
    "\n",
    "# Remove data from greater than 40 years prior\n",
    "date_cleaned_df = accidents_df.loc[accidents_df[\"Event.Date\"] > \"1983-01-01\"] "
   ]
  },
  {
   "cell_type": "code",
   "execution_count": 6,
   "id": "d577db2f-d633-4a32-a57a-59a48b8a0b46",
   "metadata": {},
   "outputs": [
    {
     "data": {
      "text/plain": [
       "Event.Id\n",
       "20001212X19172    3\n",
       "20001214X45071    3\n",
       "20001213X28363    2\n",
       "20001213X32577    2\n",
       "20001213X29734    2\n",
       "                 ..\n",
       "20001211X12036    1\n",
       "20001211X11969    1\n",
       "20001211X12014    1\n",
       "20001211X12027    1\n",
       "20221230106513    1\n",
       "Name: count, Length: 84391, dtype: int64"
      ]
     },
     "execution_count": 6,
     "metadata": {},
     "output_type": "execute_result"
    }
   ],
   "source": [
    "#Checking for duplicate entries\n",
    "date_cleaned_df[\"Event.Id\"].value_counts()"
   ]
  },
  {
   "cell_type": "code",
   "execution_count": 7,
   "id": "912fec43-ef60-4aab-9ed6-b7dc4d35fea3",
   "metadata": {},
   "outputs": [],
   "source": [
    "# Removing repeated entries\n",
    "no_duplicated_events = date_cleaned_df.drop_duplicates(subset=\"Event.Id\")"
   ]
  },
  {
   "cell_type": "code",
   "execution_count": 8,
   "id": "a8da2a8f-7144-473d-bf08-58edc41ee239",
   "metadata": {},
   "outputs": [
    {
     "data": {
      "text/plain": [
       "Event.Id\n",
       "20001214X42064    1\n",
       "20060607X00697    1\n",
       "20060618X00761    1\n",
       "20060525X00622    1\n",
       "20060618X00764    1\n",
       "                 ..\n",
       "20001211X11796    1\n",
       "20001211X11767    1\n",
       "20001211X11800    1\n",
       "20001211X11864    1\n",
       "20221230106513    1\n",
       "Name: count, Length: 84391, dtype: int64"
      ]
     },
     "execution_count": 8,
     "metadata": {},
     "output_type": "execute_result"
    }
   ],
   "source": [
    "#Recheck\n",
    "no_duplicated_events[\"Event.Id\"].value_counts()"
   ]
  },
  {
   "cell_type": "code",
   "execution_count": 9,
   "id": "69d22347-aa79-46de-9c1e-890897d81909",
   "metadata": {},
   "outputs": [
    {
     "data": {
      "text/plain": [
       "Event.Id                      0\n",
       "Investigation.Type            0\n",
       "Accident.Number               0\n",
       "Event.Date                    0\n",
       "Location                     52\n",
       "Country                     212\n",
       "Latitude                  50182\n",
       "Longitude                 50191\n",
       "Airport.Code              36580\n",
       "Airport.Name              34525\n",
       "Injury.Severity             990\n",
       "Aircraft.damage            3046\n",
       "Aircraft.Category         55728\n",
       "Registration.Number        1350\n",
       "Make                         57\n",
       "Model                        78\n",
       "Amateur.Built                99\n",
       "Number.of.Engines          6025\n",
       "Engine.Type                7042\n",
       "FAR.Description           55994\n",
       "Schedule                  72560\n",
       "Purpose.of.flight          6117\n",
       "Air.carrier               68089\n",
       "Total.Fatal.Injuries      11242\n",
       "Total.Serious.Injuries    12293\n",
       "Total.Minor.Injuries      11732\n",
       "Total.Uninjured            5854\n",
       "Weather.Condition          4472\n",
       "Broad.phase.of.flight     27112\n",
       "Report.Status              6364\n",
       "Publication.Date          13591\n",
       "dtype: int64"
      ]
     },
     "execution_count": 9,
     "metadata": {},
     "output_type": "execute_result"
    }
   ],
   "source": [
    "# Rechecking nulls\n",
    "no_duplicated_events.isnull().sum()"
   ]
  },
  {
   "cell_type": "code",
   "execution_count": 10,
   "id": "ee65382e-0688-453e-8b45-790212a4c8f5",
   "metadata": {},
   "outputs": [
    {
     "name": "stderr",
     "output_type": "stream",
     "text": [
      "C:\\Users\\jesch\\AppData\\Local\\Temp\\ipykernel_16192\\4236525251.py:2: SettingWithCopyWarning: \n",
      "A value is trying to be set on a copy of a slice from a DataFrame\n",
      "\n",
      "See the caveats in the documentation: https://pandas.pydata.org/pandas-docs/stable/user_guide/indexing.html#returning-a-view-versus-a-copy\n",
      "  no_duplicated_events.dropna(subset=[\"Amateur.Built\"], inplace=True)\n"
     ]
    }
   ],
   "source": [
    "# Dropping na in Amateur.Built\n",
    "no_duplicated_events.dropna(subset=[\"Amateur.Built\"], inplace=True)"
   ]
  },
  {
   "cell_type": "code",
   "execution_count": 11,
   "id": "5a2b7eab",
   "metadata": {},
   "outputs": [],
   "source": [
    "# Removing records of Amateur Built aircraft\n",
    "professional_builds = no_duplicated_events[no_duplicated_events[\"Amateur.Built\"] != \"Yes\"]\n",
    "professional_builds = professional_builds.drop([\"Amateur.Built\"], axis=1)"
   ]
  },
  {
   "cell_type": "code",
   "execution_count": 12,
   "id": "d04b938f-a3a3-490e-8fa4-f135be4b5f8d",
   "metadata": {},
   "outputs": [],
   "source": [
    "# Removing craft listed as non-airplane\n",
    "professional_builds.fillna({\"Aircraft.Category\":\"Airplane\"}, inplace=True)\n",
    "professional_airplanes1 = professional_builds.loc[professional_builds[\"Aircraft.Category\"]==\"Airplane\"]"
   ]
  },
  {
   "cell_type": "code",
   "execution_count": 13,
   "id": "3bd4df78-636c-46a7-b83a-9395bc0a7fd7",
   "metadata": {},
   "outputs": [],
   "source": [
    "#Removing \"Balloon Works\" aircraft as non-airplane\n",
    "professional_airplanes = professional_airplanes1.loc[professional_airplanes1[\"Make\"]!=\"Balloon Works\"]"
   ]
  },
  {
   "cell_type": "markdown",
   "id": "7f766983-e87b-467b-b3d1-00346dbcb17d",
   "metadata": {},
   "source": [
    "## Data Cleaning"
   ]
  },
  {
   "cell_type": "markdown",
   "id": "36d26002",
   "metadata": {},
   "source": [
    "### Cleaning and constructing Key Measurables\n",
    "\n",
    "Injuries and robustness to destruction are a key interest point for the client. Clean and impute relevant columns and then create derived fields that best quantifies what the client wishes to track. **Use commenting or markdown to explain any cleaning assumptions as well as any derived columns you create.**"
   ]
  },
  {
   "cell_type": "markdown",
   "id": "070b08f8",
   "metadata": {},
   "source": [
    "**Construct metric for fatal/serious injuries**\n",
    "\n",
    "*Hint:* Estimate the total number of passengers on each flight. The likelihood of serious / fatal injury can be estimated as a fraction from this."
   ]
  },
  {
   "cell_type": "code",
   "execution_count": 14,
   "id": "cd1420f5-f229-43f5-93ef-054a414dcd91",
   "metadata": {},
   "outputs": [
    {
     "data": {
      "text/html": [
       "<div>\n",
       "<style scoped>\n",
       "    .dataframe tbody tr th:only-of-type {\n",
       "        vertical-align: middle;\n",
       "    }\n",
       "\n",
       "    .dataframe tbody tr th {\n",
       "        vertical-align: top;\n",
       "    }\n",
       "\n",
       "    .dataframe thead th {\n",
       "        text-align: right;\n",
       "    }\n",
       "</style>\n",
       "<table border=\"1\" class=\"dataframe\">\n",
       "  <thead>\n",
       "    <tr style=\"text-align: right;\">\n",
       "      <th></th>\n",
       "      <th>Event.Date</th>\n",
       "      <th>Number.of.Engines</th>\n",
       "      <th>Total.Fatal.Injuries</th>\n",
       "      <th>Total.Serious.Injuries</th>\n",
       "      <th>Total.Minor.Injuries</th>\n",
       "      <th>Total.Uninjured</th>\n",
       "    </tr>\n",
       "  </thead>\n",
       "  <tbody>\n",
       "    <tr>\n",
       "      <th>count</th>\n",
       "      <td>72042</td>\n",
       "      <td>67159.000000</td>\n",
       "      <td>62538.000000</td>\n",
       "      <td>61611.000000</td>\n",
       "      <td>62089.000000</td>\n",
       "      <td>67370.000000</td>\n",
       "    </tr>\n",
       "    <tr>\n",
       "      <th>mean</th>\n",
       "      <td>1999-07-27 03:39:40.311485056</td>\n",
       "      <td>1.171667</td>\n",
       "      <td>0.667322</td>\n",
       "      <td>0.278716</td>\n",
       "      <td>0.362931</td>\n",
       "      <td>5.889090</td>\n",
       "    </tr>\n",
       "    <tr>\n",
       "      <th>min</th>\n",
       "      <td>1983-01-02 00:00:00</td>\n",
       "      <td>0.000000</td>\n",
       "      <td>0.000000</td>\n",
       "      <td>0.000000</td>\n",
       "      <td>0.000000</td>\n",
       "      <td>0.000000</td>\n",
       "    </tr>\n",
       "    <tr>\n",
       "      <th>25%</th>\n",
       "      <td>1989-06-22 00:00:00</td>\n",
       "      <td>1.000000</td>\n",
       "      <td>0.000000</td>\n",
       "      <td>0.000000</td>\n",
       "      <td>0.000000</td>\n",
       "      <td>0.000000</td>\n",
       "    </tr>\n",
       "    <tr>\n",
       "      <th>50%</th>\n",
       "      <td>1998-02-11 00:00:00</td>\n",
       "      <td>1.000000</td>\n",
       "      <td>0.000000</td>\n",
       "      <td>0.000000</td>\n",
       "      <td>0.000000</td>\n",
       "      <td>1.000000</td>\n",
       "    </tr>\n",
       "    <tr>\n",
       "      <th>75%</th>\n",
       "      <td>2008-07-05 00:00:00</td>\n",
       "      <td>1.000000</td>\n",
       "      <td>0.000000</td>\n",
       "      <td>0.000000</td>\n",
       "      <td>0.000000</td>\n",
       "      <td>2.000000</td>\n",
       "    </tr>\n",
       "    <tr>\n",
       "      <th>max</th>\n",
       "      <td>2022-12-29 00:00:00</td>\n",
       "      <td>8.000000</td>\n",
       "      <td>349.000000</td>\n",
       "      <td>161.000000</td>\n",
       "      <td>200.000000</td>\n",
       "      <td>699.000000</td>\n",
       "    </tr>\n",
       "    <tr>\n",
       "      <th>std</th>\n",
       "      <td>NaN</td>\n",
       "      <td>0.458691</td>\n",
       "      <td>5.767482</td>\n",
       "      <td>1.677330</td>\n",
       "      <td>1.900831</td>\n",
       "      <td>29.023902</td>\n",
       "    </tr>\n",
       "  </tbody>\n",
       "</table>\n",
       "</div>"
      ],
      "text/plain": [
       "                          Event.Date  Number.of.Engines  Total.Fatal.Injuries  \\\n",
       "count                          72042       67159.000000          62538.000000   \n",
       "mean   1999-07-27 03:39:40.311485056           1.171667              0.667322   \n",
       "min              1983-01-02 00:00:00           0.000000              0.000000   \n",
       "25%              1989-06-22 00:00:00           1.000000              0.000000   \n",
       "50%              1998-02-11 00:00:00           1.000000              0.000000   \n",
       "75%              2008-07-05 00:00:00           1.000000              0.000000   \n",
       "max              2022-12-29 00:00:00           8.000000            349.000000   \n",
       "std                              NaN           0.458691              5.767482   \n",
       "\n",
       "       Total.Serious.Injuries  Total.Minor.Injuries  Total.Uninjured  \n",
       "count            61611.000000          62089.000000     67370.000000  \n",
       "mean                 0.278716              0.362931         5.889090  \n",
       "min                  0.000000              0.000000         0.000000  \n",
       "25%                  0.000000              0.000000         0.000000  \n",
       "50%                  0.000000              0.000000         1.000000  \n",
       "75%                  0.000000              0.000000         2.000000  \n",
       "max                161.000000            200.000000       699.000000  \n",
       "std                  1.677330              1.900831        29.023902  "
      ]
     },
     "execution_count": 14,
     "metadata": {},
     "output_type": "execute_result"
    }
   ],
   "source": [
    "# Checking statistics on injury data\n",
    "professional_airplanes.describe()"
   ]
  },
  {
   "cell_type": "code",
   "execution_count": 15,
   "id": "f9f08f08-d713-43ef-9cf0-293866d957da",
   "metadata": {},
   "outputs": [
    {
     "name": "stderr",
     "output_type": "stream",
     "text": [
      "C:\\Users\\jesch\\AppData\\Local\\Temp\\ipykernel_16192\\2790052171.py:2: SettingWithCopyWarning: \n",
      "A value is trying to be set on a copy of a slice from a DataFrame.\n",
      "Try using .loc[row_indexer,col_indexer] = value instead\n",
      "\n",
      "See the caveats in the documentation: https://pandas.pydata.org/pandas-docs/stable/user_guide/indexing.html#returning-a-view-versus-a-copy\n",
      "  professional_airplanes[\"Total.Fatal.Injuries\"] = professional_airplanes[\"Total.Fatal.Injuries\"].fillna(0)\n",
      "C:\\Users\\jesch\\AppData\\Local\\Temp\\ipykernel_16192\\2790052171.py:3: SettingWithCopyWarning: \n",
      "A value is trying to be set on a copy of a slice from a DataFrame.\n",
      "Try using .loc[row_indexer,col_indexer] = value instead\n",
      "\n",
      "See the caveats in the documentation: https://pandas.pydata.org/pandas-docs/stable/user_guide/indexing.html#returning-a-view-versus-a-copy\n",
      "  professional_airplanes[\"Total.Serious.Injuries\"] = professional_airplanes[\"Total.Fatal.Injuries\"].fillna(0)\n",
      "C:\\Users\\jesch\\AppData\\Local\\Temp\\ipykernel_16192\\2790052171.py:4: SettingWithCopyWarning: \n",
      "A value is trying to be set on a copy of a slice from a DataFrame.\n",
      "Try using .loc[row_indexer,col_indexer] = value instead\n",
      "\n",
      "See the caveats in the documentation: https://pandas.pydata.org/pandas-docs/stable/user_guide/indexing.html#returning-a-view-versus-a-copy\n",
      "  professional_airplanes[\"Total.Minor.Injuries\"] = professional_airplanes[\"Total.Fatal.Injuries\"].fillna(0)\n",
      "C:\\Users\\jesch\\AppData\\Local\\Temp\\ipykernel_16192\\2790052171.py:7: SettingWithCopyWarning: \n",
      "A value is trying to be set on a copy of a slice from a DataFrame.\n",
      "Try using .loc[row_indexer,col_indexer] = value instead\n",
      "\n",
      "See the caveats in the documentation: https://pandas.pydata.org/pandas-docs/stable/user_guide/indexing.html#returning-a-view-versus-a-copy\n",
      "  professional_airplanes[\"Total.Uninjured\"] = professional_airplanes[\"Total.Uninjured\"].fillna(1)\n"
     ]
    }
   ],
   "source": [
    "# Replacing nulls with 0 for injury columns with medians of 0 and means less than 1\n",
    "professional_airplanes[\"Total.Fatal.Injuries\"] = professional_airplanes[\"Total.Fatal.Injuries\"].fillna(0)\n",
    "professional_airplanes[\"Total.Serious.Injuries\"] = professional_airplanes[\"Total.Fatal.Injuries\"].fillna(0)\n",
    "professional_airplanes[\"Total.Minor.Injuries\"] = professional_airplanes[\"Total.Fatal.Injuries\"].fillna(0)\n",
    "\n",
    "# Replacing uninjured with the median value of 1\n",
    "professional_airplanes[\"Total.Uninjured\"] = professional_airplanes[\"Total.Uninjured\"].fillna(1)"
   ]
  },
  {
   "cell_type": "code",
   "execution_count": 16,
   "id": "ff337a08-b6ce-4e36-801b-07680bf1a7cb",
   "metadata": {},
   "outputs": [],
   "source": [
    "# Renaming dataframe for ease of coding\n",
    "airplane_df = professional_airplanes"
   ]
  },
  {
   "cell_type": "code",
   "execution_count": 17,
   "id": "3016932c-d149-41dd-acd4-930ee5f2e2d6",
   "metadata": {},
   "outputs": [
    {
     "name": "stderr",
     "output_type": "stream",
     "text": [
      "C:\\Users\\jesch\\AppData\\Local\\Temp\\ipykernel_16192\\3023909116.py:5: SettingWithCopyWarning: \n",
      "A value is trying to be set on a copy of a slice from a DataFrame.\n",
      "Try using .loc[row_indexer,col_indexer] = value instead\n",
      "\n",
      "See the caveats in the documentation: https://pandas.pydata.org/pandas-docs/stable/user_guide/indexing.html#returning-a-view-versus-a-copy\n",
      "  airplane_df[\"Total.Passengers\"] = airplane_df.apply(total_passenger, axis=1)\n"
     ]
    }
   ],
   "source": [
    "# Creating total passenger column\n",
    "def total_passenger(row):\n",
    "    return row[\"Total.Fatal.Injuries\"]+row[\"Total.Serious.Injuries\"]+row[\"Total.Minor.Injuries\"]+row[\"Total.Uninjured\"]\n",
    "\n",
    "airplane_df[\"Total.Passengers\"] = airplane_df.apply(total_passenger, axis=1)"
   ]
  },
  {
   "cell_type": "code",
   "execution_count": 18,
   "id": "405f230e-0219-4948-b643-e62bade8975f",
   "metadata": {},
   "outputs": [],
   "source": [
    "# Filtering out any results with Total Passengers equal to zero\n",
    "airplane_filtered = airplane_df[airplane_df[\"Total.Passengers\"] != 0]"
   ]
  },
  {
   "cell_type": "code",
   "execution_count": 19,
   "id": "1058cbf3-7e3b-49fe-9da7-2943442f80ea",
   "metadata": {},
   "outputs": [
    {
     "name": "stderr",
     "output_type": "stream",
     "text": [
      "C:\\Users\\jesch\\AppData\\Local\\Temp\\ipykernel_16192\\2730106192.py:11: SettingWithCopyWarning: \n",
      "A value is trying to be set on a copy of a slice from a DataFrame.\n",
      "Try using .loc[row_indexer,col_indexer] = value instead\n",
      "\n",
      "See the caveats in the documentation: https://pandas.pydata.org/pandas-docs/stable/user_guide/indexing.html#returning-a-view-versus-a-copy\n",
      "  airplane_filtered[\"Fatality Ratio\"] = airplane_filtered.apply(fatal_ratio, axis=1)\n",
      "C:\\Users\\jesch\\AppData\\Local\\Temp\\ipykernel_16192\\2730106192.py:12: SettingWithCopyWarning: \n",
      "A value is trying to be set on a copy of a slice from a DataFrame.\n",
      "Try using .loc[row_indexer,col_indexer] = value instead\n",
      "\n",
      "See the caveats in the documentation: https://pandas.pydata.org/pandas-docs/stable/user_guide/indexing.html#returning-a-view-versus-a-copy\n",
      "  airplane_filtered[\"Serious Injury Ratio\"] = airplane_filtered.apply(serious_ratio, axis=1)\n",
      "C:\\Users\\jesch\\AppData\\Local\\Temp\\ipykernel_16192\\2730106192.py:13: SettingWithCopyWarning: \n",
      "A value is trying to be set on a copy of a slice from a DataFrame.\n",
      "Try using .loc[row_indexer,col_indexer] = value instead\n",
      "\n",
      "See the caveats in the documentation: https://pandas.pydata.org/pandas-docs/stable/user_guide/indexing.html#returning-a-view-versus-a-copy\n",
      "  airplane_filtered[\"Fatality/Serious Injury Ratio\"] = airplane_filtered.apply(fatal_and_serious_ratio, axis=1)\n"
     ]
    }
   ],
   "source": [
    "# Creating ratio columns for fatal and serious unjuries\n",
    "def fatal_ratio(row):\n",
    "    return row[\"Total.Fatal.Injuries\"]/row[\"Total.Passengers\"]\n",
    "\n",
    "def serious_ratio(row):\n",
    "    return row[\"Total.Serious.Injuries\"]/row[\"Total.Passengers\"]\n",
    "\n",
    "def fatal_and_serious_ratio(row):\n",
    "    return row[\"Fatality Ratio\"]+row[\"Serious Injury Ratio\"]\n",
    "    \n",
    "airplane_filtered[\"Fatality Ratio\"] = airplane_filtered.apply(fatal_ratio, axis=1)\n",
    "airplane_filtered[\"Serious Injury Ratio\"] = airplane_filtered.apply(serious_ratio, axis=1)\n",
    "airplane_filtered[\"Fatality/Serious Injury Ratio\"] = airplane_filtered.apply(fatal_and_serious_ratio, axis=1)"
   ]
  },
  {
   "cell_type": "markdown",
   "id": "6c89136b",
   "metadata": {},
   "source": [
    "**Aircraft.Damage**\n",
    "- identify and execute any cleaning tasks\n",
    "- construct a derived column tracking whether an aircraft was destroyed or not."
   ]
  },
  {
   "cell_type": "code",
   "execution_count": 20,
   "id": "8158785a-391b-43e6-aabb-18571c752167",
   "metadata": {},
   "outputs": [
    {
     "data": {
      "text/plain": [
       "Aircraft.damage\n",
       "Substantial    43529\n",
       "Destroyed      12202\n",
       "Minor           2071\n",
       "Unknown           61\n",
       "Name: count, dtype: int64"
      ]
     },
     "execution_count": 20,
     "metadata": {},
     "output_type": "execute_result"
    }
   ],
   "source": [
    "# Checking Aircraft Damage collumn\n",
    "airplane_filtered[\"Aircraft.damage\"].value_counts()"
   ]
  },
  {
   "cell_type": "code",
   "execution_count": 21,
   "id": "96550578-c83d-48cc-a554-e9bb68b70501",
   "metadata": {},
   "outputs": [
    {
     "name": "stderr",
     "output_type": "stream",
     "text": [
      "C:\\Users\\jesch\\AppData\\Local\\Temp\\ipykernel_16192\\230629722.py:2: SettingWithCopyWarning: \n",
      "A value is trying to be set on a copy of a slice from a DataFrame.\n",
      "Try using .loc[row_indexer,col_indexer] = value instead\n",
      "\n",
      "See the caveats in the documentation: https://pandas.pydata.org/pandas-docs/stable/user_guide/indexing.html#returning-a-view-versus-a-copy\n",
      "  airplane_filtered[\"Aircraft.damage\"] = airplane_filtered[\"Aircraft.damage\"].replace({\"Unknown\":np.nan})\n",
      "C:\\Users\\jesch\\AppData\\Local\\Temp\\ipykernel_16192\\230629722.py:3: SettingWithCopyWarning: \n",
      "A value is trying to be set on a copy of a slice from a DataFrame\n",
      "\n",
      "See the caveats in the documentation: https://pandas.pydata.org/pandas-docs/stable/user_guide/indexing.html#returning-a-view-versus-a-copy\n",
      "  airplane_filtered.dropna(subset=[\"Aircraft.damage\"], inplace=True)\n"
     ]
    }
   ],
   "source": [
    "# Filtering Aircraft damage for unknown and nan\n",
    "airplane_filtered[\"Aircraft.damage\"] = airplane_filtered[\"Aircraft.damage\"].replace({\"Unknown\":np.nan})\n",
    "airplane_filtered.dropna(subset=[\"Aircraft.damage\"], inplace=True)"
   ]
  },
  {
   "cell_type": "code",
   "execution_count": 22,
   "id": "91b518b1",
   "metadata": {},
   "outputs": [
    {
     "name": "stderr",
     "output_type": "stream",
     "text": [
      "C:\\Users\\jesch\\AppData\\Local\\Temp\\ipykernel_16192\\4074366189.py:2: SettingWithCopyWarning: \n",
      "A value is trying to be set on a copy of a slice from a DataFrame.\n",
      "Try using .loc[row_indexer,col_indexer] = value instead\n",
      "\n",
      "See the caveats in the documentation: https://pandas.pydata.org/pandas-docs/stable/user_guide/indexing.html#returning-a-view-versus-a-copy\n",
      "  airplane_filtered[\"Aircraft Destroyed?\"] = airplane_filtered[\"Aircraft.damage\"]==\"Destroyed\"\n"
     ]
    }
   ],
   "source": [
    "# Boolean column created for True if Aircraft listed as destroyed\n",
    "airplane_filtered[\"Aircraft Destroyed?\"] = airplane_filtered[\"Aircraft.damage\"]==\"Destroyed\""
   ]
  },
  {
   "cell_type": "markdown",
   "id": "e9d8af9b",
   "metadata": {},
   "source": [
    "### Investigate the *Make* column\n",
    "- Identify cleaning tasks here\n",
    "- List cleaning tasks clearly in markdown\n",
    "- Execute the cleaning tasks\n",
    "- For your analysis, keep Makes with a reasonable number (you can put the threshold at 50 though lower could work as well)"
   ]
  },
  {
   "cell_type": "code",
   "execution_count": 23,
   "id": "1ccc245f-c656-4b9b-b7af-06279179093d",
   "metadata": {},
   "outputs": [],
   "source": [
    "# Dropping nulls from make\n",
    "airplane_filtered = airplane_filtered.dropna(subset=[\"Make\"])"
   ]
  },
  {
   "cell_type": "code",
   "execution_count": 24,
   "id": "cf9005cf",
   "metadata": {},
   "outputs": [
    {
     "data": {
      "text/plain": [
       "Make\n",
       "Cessna                            17332\n",
       "Piper                              9341\n",
       "CESSNA                             3941\n",
       "Beech                              3485\n",
       "PIPER                              2260\n",
       "Bell                               1347\n",
       "Boeing                              875\n",
       "Mooney                              847\n",
       "BEECH                               832\n",
       "Grumman                             782\n",
       "Bellanca                            655\n",
       "Robinson                            574\n",
       "Hughes                              533\n",
       "Air Tractor                         466\n",
       "Schweizer                           419\n",
       "Maule                               394\n",
       "BOEING                              354\n",
       "Aeronca                             347\n",
       "Mcdonnell Douglas                   335\n",
       "Champion                            333\n",
       "De Havilland                        299\n",
       "Aero Commander                      280\n",
       "Stinson                             266\n",
       "Rockwell                            251\n",
       "North American                      244\n",
       "Luscombe                            243\n",
       "Taylorcraft                         225\n",
       "Aerospatiale                        213\n",
       "Hiller                              201\n",
       "Enstrom                             188\n",
       "MOONEY                              184\n",
       "CIRRUS DESIGN CORP                  179\n",
       "Douglas                             177\n",
       "Ayres                               171\n",
       "Grumman American                    166\n",
       "AIR TRACTOR INC                     164\n",
       "BELLANCA                            125\n",
       "MAULE                               125\n",
       "Ercoupe (eng & Research Corp.)      123\n",
       "AERONCA                             114\n",
       "Mitsubishi                          108\n",
       "Swearingen                          107\n",
       "Aviat                               104\n",
       "Grumman-schweizer                    99\n",
       "Lake                                 98\n",
       "Fairchild                            97\n",
       "Learjet                              96\n",
       "Sikorsky                             93\n",
       "Waco                                 90\n",
       "Let                                  86\n",
       "Name: count, dtype: int64"
      ]
     },
     "execution_count": 24,
     "metadata": {},
     "output_type": "execute_result"
    }
   ],
   "source": [
    "# Checking Make values\n",
    "airplane_filtered[\"Make\"].value_counts().head(50)"
   ]
  },
  {
   "cell_type": "code",
   "execution_count": 25,
   "id": "d582b839-103d-4787-9413-9f2d871f4712",
   "metadata": {},
   "outputs": [],
   "source": [
    "# Stripping and capitalizing Make Names\n",
    "airplane_filtered[\"Make\"] = airplane_filtered[\"Make\"].str.strip()\n",
    "airplane_filtered[\"Make\"] = airplane_filtered[\"Make\"].str.capitalize()\n",
    "\n",
    "# Standardizing Airbus, Mcdonnel douglas, Bombardier, Aviat, and de Havilland\n",
    "airplane_filtered[\"Make\"] = airplane_filtered[\"Make\"].replace(\"Airbus industrie\", \"Airbus\")\n",
    "airplane_filtered[\"Make\"] = airplane_filtered[\"Make\"].replace(\"Dehavilland\", \"De havilland\")\n",
    "airplane_filtered[\"Make\"] = airplane_filtered[\"Make\"].replace(\"Douglas\", \"Mcdonnell douglas\")\n",
    "airplane_filtered[\"Make\"] = airplane_filtered[\"Make\"].replace(\"Bombardier inc\", \"Bombardier\")\n",
    "airplane_filtered[\"Make\"] = airplane_filtered[\"Make\"].replace(\"Aviat aircraft inc\", \"Aviat\")"
   ]
  },
  {
   "cell_type": "code",
   "execution_count": 26,
   "id": "242058a2-cf23-44ce-a397-25c4fd3715b4",
   "metadata": {},
   "outputs": [
    {
     "data": {
      "text/plain": [
       "Make\n",
       "Cessna                            21273\n",
       "Piper                             11601\n",
       "Beech                              4317\n",
       "Bell                               1353\n",
       "Boeing                             1229\n",
       "Mooney                             1031\n",
       "Grumman                             836\n",
       "Bellanca                            780\n",
       "Robinson                            583\n",
       "Mcdonnell douglas                   565\n",
       "Hughes                              533\n",
       "Air tractor                         533\n",
       "Maule                               519\n",
       "Aeronca                             461\n",
       "Schweizer                           423\n",
       "De havilland                        413\n",
       "Champion                            406\n",
       "Stinson                             336\n",
       "Aero commander                      328\n",
       "North american                      308\n",
       "Luscombe                            307\n",
       "Rockwell                            272\n",
       "Taylorcraft                         266\n",
       "Aerospatiale                        213\n",
       "Hiller                              201\n",
       "Aviat                               190\n",
       "Enstrom                             188\n",
       "Ayres                               187\n",
       "Cirrus design corp                  184\n",
       "Grumman american                    166\n",
       "Air tractor inc                     166\n",
       "Embraer                             140\n",
       "Airbus                              135\n",
       "Swearingen                          133\n",
       "Ercoupe (eng & research corp.)      126\n",
       "Mitsubishi                          121\n",
       "Cirrus                              120\n",
       "Learjet                             117\n",
       "Fairchild                           116\n",
       "Lake                                109\n",
       "Waco                                107\n",
       "Socata                              107\n",
       "Grumman-schweizer                   103\n",
       "Helio                                96\n",
       "Sikorsky                             94\n",
       "Lockheed                             92\n",
       "Let                                  86\n",
       "Burkhart grob                        80\n",
       "Bombardier                           76\n",
       "Ryan                                 75\n",
       "Name: count, dtype: int64"
      ]
     },
     "execution_count": 26,
     "metadata": {},
     "output_type": "execute_result"
    }
   ],
   "source": [
    "# Recheck\n",
    "airplane_filtered[\"Make\"].value_counts().head(50)"
   ]
  },
  {
   "cell_type": "code",
   "execution_count": 27,
   "id": "1bc54279-71e5-4321-a1e2-cb19f1daad51",
   "metadata": {},
   "outputs": [],
   "source": [
    "# Removing Makes with fewer than 50 mentions\n",
    "value_counts = airplane_filtered[\"Make\"].value_counts()\n",
    "restricted_value_counts = value_counts>=50\n",
    "restricted_value_counts = restricted_value_counts[restricted_value_counts == False]\n",
    "drop_list = restricted_value_counts.index\n",
    "\n",
    "airplane_makes_cut = airplane_filtered[~airplane_filtered[\"Make\"].isin(drop_list)]"
   ]
  },
  {
   "cell_type": "code",
   "execution_count": 28,
   "id": "a13f8933-2b5c-4101-b680-c560db5933d2",
   "metadata": {},
   "outputs": [
    {
     "data": {
      "text/plain": [
       "Make\n",
       "Cessna               21273\n",
       "Piper                11601\n",
       "Beech                 4317\n",
       "Bell                  1353\n",
       "Boeing                1229\n",
       "                     ...  \n",
       "British aerospace       55\n",
       "Gates learjet           55\n",
       "Ercoupe                 54\n",
       "Gulfstream              53\n",
       "Canadair                50\n",
       "Name: count, Length: 65, dtype: int64"
      ]
     },
     "execution_count": 28,
     "metadata": {},
     "output_type": "execute_result"
    }
   ],
   "source": [
    "# Check\n",
    "airplane_makes_cut[\"Make\"].value_counts()"
   ]
  },
  {
   "cell_type": "markdown",
   "id": "6ed9f3c2",
   "metadata": {},
   "source": [
    "### Inspect Model column\n",
    "- Get rid of any NaNs.\n",
    "- Inspect the column and counts for each model/make. Are model labels unique to each make?\n",
    "- If not, create a derived column that is a unique identifier for a given plane type."
   ]
  },
  {
   "cell_type": "code",
   "execution_count": 29,
   "id": "05f20594",
   "metadata": {},
   "outputs": [],
   "source": [
    "# Drop Model Nulls\n",
    "\n",
    "airplane_model_cut = airplane_makes_cut.dropna(subset=[\"Model\"])"
   ]
  },
  {
   "cell_type": "code",
   "execution_count": 30,
   "id": "9d6ac1c6-c0b3-4d03-b86d-fb7f2fab49d3",
   "metadata": {},
   "outputs": [
    {
     "name": "stdout",
     "output_type": "stream",
     "text": [
      "<class 'pandas.core.frame.DataFrame'>\n",
      "Index: 53104 entries, 3608 to 88876\n",
      "Data columns (total 35 columns):\n",
      " #   Column                         Non-Null Count  Dtype         \n",
      "---  ------                         --------------  -----         \n",
      " 0   Event.Id                       53104 non-null  object        \n",
      " 1   Investigation.Type             53104 non-null  object        \n",
      " 2   Accident.Number                53104 non-null  object        \n",
      " 3   Event.Date                     53104 non-null  datetime64[ns]\n",
      " 4   Location                       53071 non-null  object        \n",
      " 5   Country                        52970 non-null  object        \n",
      " 6   Latitude                       19742 non-null  object        \n",
      " 7   Longitude                      19737 non-null  object        \n",
      " 8   Airport.Code                   31540 non-null  object        \n",
      " 9   Airport.Name                   33040 non-null  object        \n",
      " 10  Injury.Severity                53104 non-null  object        \n",
      " 11  Aircraft.damage                53104 non-null  object        \n",
      " 12  Aircraft.Category              53104 non-null  object        \n",
      " 13  Registration.Number            52236 non-null  object        \n",
      " 14  Make                           53104 non-null  object        \n",
      " 15  Model                          53104 non-null  object        \n",
      " 16  Number.of.Engines              50534 non-null  float64       \n",
      " 17  Engine.Type                    50308 non-null  object        \n",
      " 18  FAR.Description                14373 non-null  object        \n",
      " 19  Schedule                       7254 non-null   object        \n",
      " 20  Purpose.of.flight              50357 non-null  object        \n",
      " 21  Air.carrier                    8429 non-null   object        \n",
      " 22  Total.Fatal.Injuries           53104 non-null  float64       \n",
      " 23  Total.Serious.Injuries         53104 non-null  float64       \n",
      " 24  Total.Minor.Injuries           53104 non-null  float64       \n",
      " 25  Total.Uninjured                53104 non-null  float64       \n",
      " 26  Weather.Condition              51414 non-null  object        \n",
      " 27  Broad.phase.of.flight          39778 non-null  object        \n",
      " 28  Report.Status                  50563 non-null  object        \n",
      " 29  Publication.Date               43985 non-null  object        \n",
      " 30  Total.Passengers               53104 non-null  float64       \n",
      " 31  Fatality Ratio                 53104 non-null  float64       \n",
      " 32  Serious Injury Ratio           53104 non-null  float64       \n",
      " 33  Fatality/Serious Injury Ratio  53104 non-null  float64       \n",
      " 34  Aircraft Destroyed?            53104 non-null  bool          \n",
      "dtypes: bool(1), datetime64[ns](1), float64(9), object(24)\n",
      "memory usage: 14.2+ MB\n"
     ]
    }
   ],
   "source": [
    "# Check\n",
    "airplane_model_cut.info()"
   ]
  },
  {
   "cell_type": "code",
   "execution_count": 31,
   "id": "47c73aea-b3d9-416a-945f-77502ffb04be",
   "metadata": {},
   "outputs": [
    {
     "name": "stderr",
     "output_type": "stream",
     "text": [
      "C:\\Users\\jesch\\AppData\\Local\\Temp\\ipykernel_16192\\3216716133.py:2: SettingWithCopyWarning: \n",
      "A value is trying to be set on a copy of a slice from a DataFrame.\n",
      "Try using .loc[row_indexer,col_indexer] = value instead\n",
      "\n",
      "See the caveats in the documentation: https://pandas.pydata.org/pandas-docs/stable/user_guide/indexing.html#returning-a-view-versus-a-copy\n",
      "  airplane_model_cut[\"Model\"] = airplane_model_cut[\"Model\"].str.strip()\n"
     ]
    },
    {
     "data": {
      "text/plain": [
       "Model\n",
       "152          1859\n",
       "172          1346\n",
       "172N          910\n",
       "PA-28-140     638\n",
       "172M          617\n",
       "             ... \n",
       "BAE3201         1\n",
       "767-251         1\n",
       "747-269BC       1\n",
       "TU206D          1\n",
       "P63             1\n",
       "Name: count, Length: 4660, dtype: int64"
      ]
     },
     "execution_count": 31,
     "metadata": {},
     "output_type": "execute_result"
    }
   ],
   "source": [
    "# Stripping Model strings and checking counts\n",
    "airplane_model_cut[\"Model\"] = airplane_model_cut[\"Model\"].str.strip()\n",
    "airplane_model_cut[\"Model\"].value_counts()"
   ]
  },
  {
   "cell_type": "code",
   "execution_count": 32,
   "id": "0d4808cf-2022-4bfc-80f6-96e61f1e1fa7",
   "metadata": {},
   "outputs": [
    {
     "name": "stderr",
     "output_type": "stream",
     "text": [
      "C:\\Users\\jesch\\AppData\\Local\\Temp\\ipykernel_16192\\1889989705.py:3: SettingWithCopyWarning: \n",
      "A value is trying to be set on a copy of a slice from a DataFrame.\n",
      "Try using .loc[row_indexer,col_indexer] = value instead\n",
      "\n",
      "See the caveats in the documentation: https://pandas.pydata.org/pandas-docs/stable/user_guide/indexing.html#returning-a-view-versus-a-copy\n",
      "  airplane_model_cut[\"Make - Model\"] = airplane_model_cut[\"Make\"] + \" - \" + airplane_model_cut[\"Model\"]\n"
     ]
    }
   ],
   "source": [
    "# Creating combined \"Make - Model\" column\n",
    "\n",
    "airplane_model_cut[\"Make - Model\"] = airplane_model_cut[\"Make\"] + \" - \" + airplane_model_cut[\"Model\"]"
   ]
  },
  {
   "cell_type": "code",
   "execution_count": 33,
   "id": "f0980135-8677-4eec-a621-4f59eb317641",
   "metadata": {},
   "outputs": [
    {
     "data": {
      "text/plain": [
       "Make - Model\n",
       "Cessna - 152                      1859\n",
       "Cessna - 172                      1346\n",
       "Cessna - 172N                      910\n",
       "Piper - PA-28-140                  638\n",
       "Cessna - 172M                      617\n",
       "                                  ... \n",
       "Cessna - CE-550                      1\n",
       "Bell - B-3                           1\n",
       "Bell - 47G2-M                        1\n",
       "Burkhart grob - SPEED ASTIR II       1\n",
       "Bell - P63                           1\n",
       "Name: count, Length: 4986, dtype: int64"
      ]
     },
     "execution_count": 33,
     "metadata": {},
     "output_type": "execute_result"
    }
   ],
   "source": [
    "airplane_model_cut[\"Make - Model\"].value_counts()"
   ]
  },
  {
   "cell_type": "markdown",
   "id": "9a173ebd",
   "metadata": {},
   "source": [
    "### Cleaning other columns\n",
    "- there are other columns containing data that might be related to the outcome of an accident. We list a few here:\n",
    "- Engine.Type\n",
    "- Weather.Condition\n",
    "- Number.of.Engines\n",
    "- Purpose.of.flight\n",
    "- Broad.phase.of.flight\n",
    "\n",
    "Inspect and identify potential cleaning tasks in each of the above columns. Execute those cleaning tasks. \n",
    "\n",
    "**Note**: You do not necessarily need to impute or drop NaNs here."
   ]
  },
  {
   "cell_type": "code",
   "execution_count": 34,
   "id": "01df492e",
   "metadata": {},
   "outputs": [
    {
     "data": {
      "text/plain": [
       "Engine.Type\n",
       "Reciprocating      44066\n",
       "Turbo Prop          2273\n",
       "Turbo Shaft         1542\n",
       "Turbo Fan           1225\n",
       "Unknown              846\n",
       "Turbo Jet            355\n",
       "Geared Turbofan        1\n",
       "Name: count, dtype: int64"
      ]
     },
     "execution_count": 34,
     "metadata": {},
     "output_type": "execute_result"
    }
   ],
   "source": [
    "# Checking engine types\n",
    "airplane_model_cut[\"Engine.Type\"].value_counts()"
   ]
  },
  {
   "cell_type": "code",
   "execution_count": 35,
   "id": "82977be4-d519-4f93-be48-1c3acb81dac1",
   "metadata": {},
   "outputs": [
    {
     "data": {
      "text/plain": [
       "Weather.Condition\n",
       "VMC    46363\n",
       "IMC     4358\n",
       "UNK      564\n",
       "Unk      129\n",
       "Name: count, dtype: int64"
      ]
     },
     "execution_count": 35,
     "metadata": {},
     "output_type": "execute_result"
    }
   ],
   "source": [
    "# Checking Weather conditions\n",
    "airplane_model_cut[\"Weather.Condition\"].value_counts()"
   ]
  },
  {
   "cell_type": "code",
   "execution_count": 36,
   "id": "0d9f01be-669b-46fb-ad4e-794c51bb4363",
   "metadata": {},
   "outputs": [
    {
     "name": "stderr",
     "output_type": "stream",
     "text": [
      "C:\\Users\\jesch\\AppData\\Local\\Temp\\ipykernel_16192\\3452080468.py:2: SettingWithCopyWarning: \n",
      "A value is trying to be set on a copy of a slice from a DataFrame.\n",
      "Try using .loc[row_indexer,col_indexer] = value instead\n",
      "\n",
      "See the caveats in the documentation: https://pandas.pydata.org/pandas-docs/stable/user_guide/indexing.html#returning-a-view-versus-a-copy\n",
      "  airplane_model_cut[\"Weather.Condition\"] = airplane_model_cut[\"Weather.Condition\"].str.upper()\n"
     ]
    }
   ],
   "source": [
    "# Taking Weather conditions to all caps\n",
    "airplane_model_cut[\"Weather.Condition\"] = airplane_model_cut[\"Weather.Condition\"].str.upper()"
   ]
  },
  {
   "cell_type": "code",
   "execution_count": 37,
   "id": "ae28e592-5d82-49dc-b6f2-0292baedcd99",
   "metadata": {},
   "outputs": [
    {
     "data": {
      "text/plain": [
       "Weather.Condition\n",
       "VMC    46363\n",
       "IMC     4358\n",
       "UNK      693\n",
       "Name: count, dtype: int64"
      ]
     },
     "execution_count": 37,
     "metadata": {},
     "output_type": "execute_result"
    }
   ],
   "source": [
    "# Weather recheck\n",
    "airplane_model_cut[\"Weather.Condition\"].value_counts()"
   ]
  },
  {
   "cell_type": "code",
   "execution_count": 38,
   "id": "2cefad32-9198-4589-9aa6-ef9f244e11c0",
   "metadata": {},
   "outputs": [
    {
     "data": {
      "text/plain": [
       "Number.of.Engines\n",
       "1.0    42430\n",
       "2.0     7284\n",
       "0.0      282\n",
       "4.0      273\n",
       "3.0      265\n",
       "Name: count, dtype: int64"
      ]
     },
     "execution_count": 38,
     "metadata": {},
     "output_type": "execute_result"
    }
   ],
   "source": [
    "# number of engines check\n",
    "airplane_model_cut[\"Number.of.Engines\"].value_counts()"
   ]
  },
  {
   "cell_type": "code",
   "execution_count": 39,
   "id": "5843d79d-15d1-4105-9789-eaebebcb2fba",
   "metadata": {},
   "outputs": [],
   "source": [
    "# Removing rows with 0 engines listed\n",
    "airplane_model_cut = airplane_model_cut[airplane_model_cut[\"Number.of.Engines\"] != 0]"
   ]
  },
  {
   "cell_type": "code",
   "execution_count": 40,
   "id": "fc52a987-9a3e-446f-a4c5-3363a1422bee",
   "metadata": {},
   "outputs": [
    {
     "data": {
      "text/plain": [
       "Number.of.Engines\n",
       "1.0    42430\n",
       "2.0     7284\n",
       "4.0      273\n",
       "3.0      265\n",
       "Name: count, dtype: int64"
      ]
     },
     "execution_count": 40,
     "metadata": {},
     "output_type": "execute_result"
    }
   ],
   "source": [
    "# recheck\n",
    "airplane_model_cut[\"Number.of.Engines\"].value_counts()"
   ]
  },
  {
   "cell_type": "code",
   "execution_count": 41,
   "id": "b2b26764-1539-4895-b597-7f9193d34da8",
   "metadata": {},
   "outputs": [
    {
     "data": {
      "text/plain": [
       "Purpose.of.flight\n",
       "Personal                     29209\n",
       "Instructional                 7446\n",
       "Unknown                       3861\n",
       "Aerial Application            2927\n",
       "Business                      2720\n",
       "Positioning                   1045\n",
       "Other Work Use                 671\n",
       "Ferry                          467\n",
       "Public Aircraft                454\n",
       "Aerial Observation             430\n",
       "Executive/corporate            340\n",
       "Skydiving                      153\n",
       "Flight Test                    111\n",
       "Banner Tow                      70\n",
       "Public Aircraft - Federal       42\n",
       "Glider Tow                      25\n",
       "Public Aircraft - State         25\n",
       "Firefighting                    20\n",
       "Public Aircraft - Local         14\n",
       "Air Race/show                   13\n",
       "External Load                   12\n",
       "Air Race show                   11\n",
       "Air Drop                         5\n",
       "PUBS                             2\n",
       "ASHO                             2\n",
       "Name: count, dtype: int64"
      ]
     },
     "execution_count": 41,
     "metadata": {},
     "output_type": "execute_result"
    }
   ],
   "source": [
    "# Checking purpose of flight:\n",
    "airplane_model_cut[\"Purpose.of.flight\"].value_counts()"
   ]
  },
  {
   "cell_type": "code",
   "execution_count": 42,
   "id": "d056d229-3a1c-47cd-8908-61e02674adc4",
   "metadata": {},
   "outputs": [
    {
     "data": {
      "text/plain": [
       "Broad.phase.of.flight\n",
       "Landing        11516\n",
       "Takeoff         7641\n",
       "Cruise          6473\n",
       "Maneuvering     4694\n",
       "Approach        3786\n",
       "Taxi            1376\n",
       "Climb           1201\n",
       "Descent         1125\n",
       "Go-around        884\n",
       "Standing         516\n",
       "Unknown          357\n",
       "Other             66\n",
       "Name: count, dtype: int64"
      ]
     },
     "execution_count": 42,
     "metadata": {},
     "output_type": "execute_result"
    }
   ],
   "source": [
    "# Checking phase of flight:\n",
    "airplane_model_cut[\"Broad.phase.of.flight\"].value_counts()"
   ]
  },
  {
   "cell_type": "markdown",
   "id": "12ad63d9",
   "metadata": {},
   "source": [
    "### Column Removal\n",
    "- inspect the dataframe and drop any columns that have too many NaNs"
   ]
  },
  {
   "cell_type": "code",
   "execution_count": 43,
   "id": "5e1aeb03-5b93-4697-8bd8-0b30b1c7b349",
   "metadata": {},
   "outputs": [
    {
     "data": {
      "text/plain": [
       "Event.Id                             0\n",
       "Investigation.Type                   0\n",
       "Accident.Number                      0\n",
       "Event.Date                           0\n",
       "Location                            31\n",
       "Country                            132\n",
       "Latitude                         33107\n",
       "Longitude                        33112\n",
       "Airport.Code                     21376\n",
       "Airport.Name                     19885\n",
       "Injury.Severity                      0\n",
       "Aircraft.damage                      0\n",
       "Aircraft.Category                    0\n",
       "Registration.Number                848\n",
       "Make                                 0\n",
       "Model                                0\n",
       "Number.of.Engines                 2570\n",
       "Engine.Type                       2762\n",
       "FAR.Description                  38454\n",
       "Schedule                         45640\n",
       "Purpose.of.flight                 2747\n",
       "Air.carrier                      44395\n",
       "Total.Fatal.Injuries                 0\n",
       "Total.Serious.Injuries               0\n",
       "Total.Minor.Injuries                 0\n",
       "Total.Uninjured                      0\n",
       "Weather.Condition                 1690\n",
       "Broad.phase.of.flight            13187\n",
       "Report.Status                     2541\n",
       "Publication.Date                  9080\n",
       "Total.Passengers                     0\n",
       "Fatality Ratio                       0\n",
       "Serious Injury Ratio                 0\n",
       "Fatality/Serious Injury Ratio        0\n",
       "Aircraft Destroyed?                  0\n",
       "Make - Model                         0\n",
       "dtype: int64"
      ]
     },
     "execution_count": 43,
     "metadata": {},
     "output_type": "execute_result"
    }
   ],
   "source": [
    "airplane_model_cut.isnull().sum()"
   ]
  },
  {
   "cell_type": "code",
   "execution_count": 44,
   "id": "13b268cb-90f1-4df0-b5d1-9ddf0db04756",
   "metadata": {},
   "outputs": [],
   "source": [
    "# Longitude, Latitude, Airport.Code, Airport.Name, FAR.Decription, Schedule, Air.Carrier removed\n",
    "# Reason: Greater than 20,000 null and not inherently relevant\n",
    "\n",
    "column_cut_df = airplane_model_cut.drop([\"Longitude\", \"Latitude\", \"Airport.Code\", \"Airport.Name\", \"FAR.Description\", \"Schedule\", \"Air.carrier\"], axis = 1)"
   ]
  },
  {
   "cell_type": "code",
   "execution_count": 45,
   "id": "f661bb21",
   "metadata": {},
   "outputs": [
    {
     "name": "stdout",
     "output_type": "stream",
     "text": [
      "<class 'pandas.core.frame.DataFrame'>\n",
      "Index: 52822 entries, 3608 to 88876\n",
      "Data columns (total 29 columns):\n",
      " #   Column                         Non-Null Count  Dtype         \n",
      "---  ------                         --------------  -----         \n",
      " 0   Event.Id                       52822 non-null  object        \n",
      " 1   Investigation.Type             52822 non-null  object        \n",
      " 2   Accident.Number                52822 non-null  object        \n",
      " 3   Event.Date                     52822 non-null  datetime64[ns]\n",
      " 4   Location                       52791 non-null  object        \n",
      " 5   Country                        52690 non-null  object        \n",
      " 6   Injury.Severity                52822 non-null  object        \n",
      " 7   Aircraft.damage                52822 non-null  object        \n",
      " 8   Aircraft.Category              52822 non-null  object        \n",
      " 9   Registration.Number            51974 non-null  object        \n",
      " 10  Make                           52822 non-null  object        \n",
      " 11  Model                          52822 non-null  object        \n",
      " 12  Number.of.Engines              50252 non-null  float64       \n",
      " 13  Engine.Type                    50060 non-null  object        \n",
      " 14  Purpose.of.flight              50075 non-null  object        \n",
      " 15  Total.Fatal.Injuries           52822 non-null  float64       \n",
      " 16  Total.Serious.Injuries         52822 non-null  float64       \n",
      " 17  Total.Minor.Injuries           52822 non-null  float64       \n",
      " 18  Total.Uninjured                52822 non-null  float64       \n",
      " 19  Weather.Condition              51132 non-null  object        \n",
      " 20  Broad.phase.of.flight          39635 non-null  object        \n",
      " 21  Report.Status                  50281 non-null  object        \n",
      " 22  Publication.Date               43742 non-null  object        \n",
      " 23  Total.Passengers               52822 non-null  float64       \n",
      " 24  Fatality Ratio                 52822 non-null  float64       \n",
      " 25  Serious Injury Ratio           52822 non-null  float64       \n",
      " 26  Fatality/Serious Injury Ratio  52822 non-null  float64       \n",
      " 27  Aircraft Destroyed?            52822 non-null  bool          \n",
      " 28  Make - Model                   52822 non-null  object        \n",
      "dtypes: bool(1), datetime64[ns](1), float64(9), object(18)\n",
      "memory usage: 11.7+ MB\n"
     ]
    }
   ],
   "source": [
    "# Recheck\n",
    "column_cut_df.info()"
   ]
  },
  {
   "cell_type": "markdown",
   "id": "750d48f1",
   "metadata": {},
   "source": [
    "### Save DataFrame to csv\n",
    "- its generally useful to save data to file/server after its in a sufficiently cleaned or intermediate state\n",
    "- the data can then be loaded directly in another notebook for further analysis\n",
    "- this helps keep your notebooks and workflow readable, clean and modularized"
   ]
  },
  {
   "cell_type": "code",
   "execution_count": 46,
   "id": "b425a512",
   "metadata": {},
   "outputs": [],
   "source": [
    "column_cut_df.to_csv(\"Cleaned_Accident_Data.csv\", index=False)"
   ]
  },
  {
   "cell_type": "code",
   "execution_count": null,
   "id": "e69a9697-d527-43f9-931c-5e8c9c43934a",
   "metadata": {},
   "outputs": [],
   "source": []
  }
 ],
 "metadata": {
  "kernelspec": {
   "display_name": "Python 3 (ipykernel)",
   "language": "python",
   "name": "python3"
  },
  "language_info": {
   "codemirror_mode": {
    "name": "ipython",
    "version": 3
   },
   "file_extension": ".py",
   "mimetype": "text/x-python",
   "name": "python",
   "nbconvert_exporter": "python",
   "pygments_lexer": "ipython3",
   "version": "3.12.4"
  }
 },
 "nbformat": 4,
 "nbformat_minor": 5
}
