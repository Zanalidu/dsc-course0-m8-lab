{
 "cells": [
  {
   "cell_type": "markdown",
   "id": "d7485d62",
   "metadata": {},
   "source": [
    "# Aviation Accidents Analysis\n",
    "\n",
    "You are part of a consulting firm that is tasked to do an analysis of commercial and passenger jet airline safety. The client (an airline/airplane insurer) is interested in knowing what types of aircraft (makes/models) exhibit low rates of total destruction and low likelihood of fatal or serious passenger injuries in the event of an accident. They are also interested in any general variables/conditions that might be at play. Your analysis will be based off of aviation accident data accumulated from the years 1948-2023. \n",
    "\n",
    "Our client is only interested in airplane makes/models that are professional builds and could potentially still be active. Assume a max lifetime of 40 years for a make/model retirement and make sure to filter your data accordingly (i.e. from 1983 onwards). They would also like separate recommendations for small aircraft vs. larger passenger models. **In addition, make sure that claims that you make are statistically robust and that you have enough samples when making comparisons between groups.**\n",
    "\n",
    "\n",
    "In this summative assessment you will demonstrate your ability to:\n",
    "- **Use Pandas to load, inspect, and clean the dataset appropriately.**\n",
    "- **Transform relevant columns to create measures that address the problem at hand.**\n",
    "- conduct EDA: visualization and statistical measures to systematically understand the structure of the data\n",
    "- recommend a set of airplanes and makes conforming to the client's request and identify at least *two* factors contributing to airplane safety. You must provide supporting evidence (visuals, summary statistics, tables) for each claim you make."
   ]
  },
  {
   "cell_type": "markdown",
   "id": "73e582c5",
   "metadata": {},
   "source": [
    "### Make relevant library imports"
   ]
  },
  {
   "cell_type": "code",
   "execution_count": 64,
   "id": "a72188a8",
   "metadata": {},
   "outputs": [],
   "source": [
    "import pandas as pd\n",
    "import numpy as np\n",
    "import matplotlib.pyplot as plt\n",
    "import seaborn as sns"
   ]
  },
  {
   "cell_type": "markdown",
   "id": "5b1fc321",
   "metadata": {},
   "source": [
    "## Data Loading and Inspection"
   ]
  },
  {
   "cell_type": "markdown",
   "id": "57becc28",
   "metadata": {},
   "source": [
    "### Load in data from the relevant directory and inspect the dataframe.\n",
    "- inspect NaNs, datatypes, and summary statistics"
   ]
  },
  {
   "cell_type": "code",
   "execution_count": 65,
   "id": "85235fa7",
   "metadata": {},
   "outputs": [
    {
     "name": "stderr",
     "output_type": "stream",
     "text": [
      "C:\\Users\\jesch\\AppData\\Local\\Temp\\ipykernel_6520\\3121211007.py:2: DtypeWarning: Columns (6,7,28) have mixed types. Specify dtype option on import or set low_memory=False.\n",
      "  accidents_df = pd.read_csv(\"AviationData.csv\", encoding=\"1252\")\n"
     ]
    },
    {
     "data": {
      "text/html": [
       "<div>\n",
       "<style scoped>\n",
       "    .dataframe tbody tr th:only-of-type {\n",
       "        vertical-align: middle;\n",
       "    }\n",
       "\n",
       "    .dataframe tbody tr th {\n",
       "        vertical-align: top;\n",
       "    }\n",
       "\n",
       "    .dataframe thead th {\n",
       "        text-align: right;\n",
       "    }\n",
       "</style>\n",
       "<table border=\"1\" class=\"dataframe\">\n",
       "  <thead>\n",
       "    <tr style=\"text-align: right;\">\n",
       "      <th></th>\n",
       "      <th>Event.Id</th>\n",
       "      <th>Investigation.Type</th>\n",
       "      <th>Accident.Number</th>\n",
       "      <th>Event.Date</th>\n",
       "      <th>Location</th>\n",
       "      <th>Country</th>\n",
       "      <th>Latitude</th>\n",
       "      <th>Longitude</th>\n",
       "      <th>Airport.Code</th>\n",
       "      <th>Airport.Name</th>\n",
       "      <th>...</th>\n",
       "      <th>Purpose.of.flight</th>\n",
       "      <th>Air.carrier</th>\n",
       "      <th>Total.Fatal.Injuries</th>\n",
       "      <th>Total.Serious.Injuries</th>\n",
       "      <th>Total.Minor.Injuries</th>\n",
       "      <th>Total.Uninjured</th>\n",
       "      <th>Weather.Condition</th>\n",
       "      <th>Broad.phase.of.flight</th>\n",
       "      <th>Report.Status</th>\n",
       "      <th>Publication.Date</th>\n",
       "    </tr>\n",
       "  </thead>\n",
       "  <tbody>\n",
       "    <tr>\n",
       "      <th>0</th>\n",
       "      <td>20001218X45444</td>\n",
       "      <td>Accident</td>\n",
       "      <td>SEA87LA080</td>\n",
       "      <td>1948-10-24</td>\n",
       "      <td>MOOSE CREEK, ID</td>\n",
       "      <td>United States</td>\n",
       "      <td>NaN</td>\n",
       "      <td>NaN</td>\n",
       "      <td>NaN</td>\n",
       "      <td>NaN</td>\n",
       "      <td>...</td>\n",
       "      <td>Personal</td>\n",
       "      <td>NaN</td>\n",
       "      <td>2.0</td>\n",
       "      <td>0.0</td>\n",
       "      <td>0.0</td>\n",
       "      <td>0.0</td>\n",
       "      <td>UNK</td>\n",
       "      <td>Cruise</td>\n",
       "      <td>Probable Cause</td>\n",
       "      <td>NaN</td>\n",
       "    </tr>\n",
       "    <tr>\n",
       "      <th>1</th>\n",
       "      <td>20001218X45447</td>\n",
       "      <td>Accident</td>\n",
       "      <td>LAX94LA336</td>\n",
       "      <td>1962-07-19</td>\n",
       "      <td>BRIDGEPORT, CA</td>\n",
       "      <td>United States</td>\n",
       "      <td>NaN</td>\n",
       "      <td>NaN</td>\n",
       "      <td>NaN</td>\n",
       "      <td>NaN</td>\n",
       "      <td>...</td>\n",
       "      <td>Personal</td>\n",
       "      <td>NaN</td>\n",
       "      <td>4.0</td>\n",
       "      <td>0.0</td>\n",
       "      <td>0.0</td>\n",
       "      <td>0.0</td>\n",
       "      <td>UNK</td>\n",
       "      <td>Unknown</td>\n",
       "      <td>Probable Cause</td>\n",
       "      <td>19-09-1996</td>\n",
       "    </tr>\n",
       "    <tr>\n",
       "      <th>2</th>\n",
       "      <td>20061025X01555</td>\n",
       "      <td>Accident</td>\n",
       "      <td>NYC07LA005</td>\n",
       "      <td>1974-08-30</td>\n",
       "      <td>Saltville, VA</td>\n",
       "      <td>United States</td>\n",
       "      <td>36.922223</td>\n",
       "      <td>-81.878056</td>\n",
       "      <td>NaN</td>\n",
       "      <td>NaN</td>\n",
       "      <td>...</td>\n",
       "      <td>Personal</td>\n",
       "      <td>NaN</td>\n",
       "      <td>3.0</td>\n",
       "      <td>NaN</td>\n",
       "      <td>NaN</td>\n",
       "      <td>NaN</td>\n",
       "      <td>IMC</td>\n",
       "      <td>Cruise</td>\n",
       "      <td>Probable Cause</td>\n",
       "      <td>26-02-2007</td>\n",
       "    </tr>\n",
       "    <tr>\n",
       "      <th>3</th>\n",
       "      <td>20001218X45448</td>\n",
       "      <td>Accident</td>\n",
       "      <td>LAX96LA321</td>\n",
       "      <td>1977-06-19</td>\n",
       "      <td>EUREKA, CA</td>\n",
       "      <td>United States</td>\n",
       "      <td>NaN</td>\n",
       "      <td>NaN</td>\n",
       "      <td>NaN</td>\n",
       "      <td>NaN</td>\n",
       "      <td>...</td>\n",
       "      <td>Personal</td>\n",
       "      <td>NaN</td>\n",
       "      <td>2.0</td>\n",
       "      <td>0.0</td>\n",
       "      <td>0.0</td>\n",
       "      <td>0.0</td>\n",
       "      <td>IMC</td>\n",
       "      <td>Cruise</td>\n",
       "      <td>Probable Cause</td>\n",
       "      <td>12-09-2000</td>\n",
       "    </tr>\n",
       "    <tr>\n",
       "      <th>4</th>\n",
       "      <td>20041105X01764</td>\n",
       "      <td>Accident</td>\n",
       "      <td>CHI79FA064</td>\n",
       "      <td>1979-08-02</td>\n",
       "      <td>Canton, OH</td>\n",
       "      <td>United States</td>\n",
       "      <td>NaN</td>\n",
       "      <td>NaN</td>\n",
       "      <td>NaN</td>\n",
       "      <td>NaN</td>\n",
       "      <td>...</td>\n",
       "      <td>Personal</td>\n",
       "      <td>NaN</td>\n",
       "      <td>1.0</td>\n",
       "      <td>2.0</td>\n",
       "      <td>NaN</td>\n",
       "      <td>0.0</td>\n",
       "      <td>VMC</td>\n",
       "      <td>Approach</td>\n",
       "      <td>Probable Cause</td>\n",
       "      <td>16-04-1980</td>\n",
       "    </tr>\n",
       "  </tbody>\n",
       "</table>\n",
       "<p>5 rows × 31 columns</p>\n",
       "</div>"
      ],
      "text/plain": [
       "         Event.Id Investigation.Type Accident.Number  Event.Date  \\\n",
       "0  20001218X45444           Accident      SEA87LA080  1948-10-24   \n",
       "1  20001218X45447           Accident      LAX94LA336  1962-07-19   \n",
       "2  20061025X01555           Accident      NYC07LA005  1974-08-30   \n",
       "3  20001218X45448           Accident      LAX96LA321  1977-06-19   \n",
       "4  20041105X01764           Accident      CHI79FA064  1979-08-02   \n",
       "\n",
       "          Location        Country   Latitude  Longitude Airport.Code  \\\n",
       "0  MOOSE CREEK, ID  United States        NaN        NaN          NaN   \n",
       "1   BRIDGEPORT, CA  United States        NaN        NaN          NaN   \n",
       "2    Saltville, VA  United States  36.922223 -81.878056          NaN   \n",
       "3       EUREKA, CA  United States        NaN        NaN          NaN   \n",
       "4       Canton, OH  United States        NaN        NaN          NaN   \n",
       "\n",
       "  Airport.Name  ... Purpose.of.flight Air.carrier Total.Fatal.Injuries  \\\n",
       "0          NaN  ...          Personal         NaN                  2.0   \n",
       "1          NaN  ...          Personal         NaN                  4.0   \n",
       "2          NaN  ...          Personal         NaN                  3.0   \n",
       "3          NaN  ...          Personal         NaN                  2.0   \n",
       "4          NaN  ...          Personal         NaN                  1.0   \n",
       "\n",
       "  Total.Serious.Injuries Total.Minor.Injuries Total.Uninjured  \\\n",
       "0                    0.0                  0.0             0.0   \n",
       "1                    0.0                  0.0             0.0   \n",
       "2                    NaN                  NaN             NaN   \n",
       "3                    0.0                  0.0             0.0   \n",
       "4                    2.0                  NaN             0.0   \n",
       "\n",
       "  Weather.Condition  Broad.phase.of.flight   Report.Status Publication.Date  \n",
       "0               UNK                 Cruise  Probable Cause              NaN  \n",
       "1               UNK                Unknown  Probable Cause       19-09-1996  \n",
       "2               IMC                 Cruise  Probable Cause       26-02-2007  \n",
       "3               IMC                 Cruise  Probable Cause       12-09-2000  \n",
       "4               VMC               Approach  Probable Cause       16-04-1980  \n",
       "\n",
       "[5 rows x 31 columns]"
      ]
     },
     "execution_count": 65,
     "metadata": {},
     "output_type": "execute_result"
    }
   ],
   "source": [
    "# Reading in csv\n",
    "accidents_df = pd.read_csv(\"AviationData.csv\", encoding=\"1252\")\n",
    "\n",
    "accidents_df.head()"
   ]
  },
  {
   "cell_type": "code",
   "execution_count": 66,
   "id": "44cb93ec-0969-4642-a31e-f7df19250805",
   "metadata": {},
   "outputs": [
    {
     "name": "stdout",
     "output_type": "stream",
     "text": [
      "<class 'pandas.core.frame.DataFrame'>\n",
      "RangeIndex: 88889 entries, 0 to 88888\n",
      "Data columns (total 31 columns):\n",
      " #   Column                  Non-Null Count  Dtype  \n",
      "---  ------                  --------------  -----  \n",
      " 0   Event.Id                88889 non-null  object \n",
      " 1   Investigation.Type      88889 non-null  object \n",
      " 2   Accident.Number         88889 non-null  object \n",
      " 3   Event.Date              88889 non-null  object \n",
      " 4   Location                88837 non-null  object \n",
      " 5   Country                 88663 non-null  object \n",
      " 6   Latitude                34382 non-null  object \n",
      " 7   Longitude               34373 non-null  object \n",
      " 8   Airport.Code            50132 non-null  object \n",
      " 9   Airport.Name            52704 non-null  object \n",
      " 10  Injury.Severity         87889 non-null  object \n",
      " 11  Aircraft.damage         85695 non-null  object \n",
      " 12  Aircraft.Category       32287 non-null  object \n",
      " 13  Registration.Number     87507 non-null  object \n",
      " 14  Make                    88826 non-null  object \n",
      " 15  Model                   88797 non-null  object \n",
      " 16  Amateur.Built           88787 non-null  object \n",
      " 17  Number.of.Engines       82805 non-null  float64\n",
      " 18  Engine.Type             81793 non-null  object \n",
      " 19  FAR.Description         32023 non-null  object \n",
      " 20  Schedule                12582 non-null  object \n",
      " 21  Purpose.of.flight       82697 non-null  object \n",
      " 22  Air.carrier             16648 non-null  object \n",
      " 23  Total.Fatal.Injuries    77488 non-null  float64\n",
      " 24  Total.Serious.Injuries  76379 non-null  float64\n",
      " 25  Total.Minor.Injuries    76956 non-null  float64\n",
      " 26  Total.Uninjured         82977 non-null  float64\n",
      " 27  Weather.Condition       84397 non-null  object \n",
      " 28  Broad.phase.of.flight   61724 non-null  object \n",
      " 29  Report.Status           82505 non-null  object \n",
      " 30  Publication.Date        75118 non-null  object \n",
      "dtypes: float64(5), object(26)\n",
      "memory usage: 21.0+ MB\n"
     ]
    }
   ],
   "source": [
    "accidents_df.info()"
   ]
  },
  {
   "cell_type": "markdown",
   "id": "2e9b8cc7",
   "metadata": {},
   "source": [
    "## Data Cleaning"
   ]
  },
  {
   "cell_type": "markdown",
   "id": "c23efd78",
   "metadata": {},
   "source": [
    "### Filtering aircrafts and events"
   ]
  },
  {
   "cell_type": "markdown",
   "id": "9c399343",
   "metadata": {},
   "source": [
    "We want to filter the dataset to include aircraft that the client is interested in an analysis of:\n",
    "- inspect relevant columns\n",
    "- figure out any reasonable imputations\n",
    "- filter the dataset"
   ]
  },
  {
   "cell_type": "code",
   "execution_count": 67,
   "id": "4c28ee6d-c96f-4f06-8da2-ad4b9793b9cf",
   "metadata": {},
   "outputs": [],
   "source": [
    "# converting Event.Dates to Datetime dtype\n",
    "accidents_df[\"Event.Date\"] = pd.to_datetime(accidents_df[\"Event.Date\"])\n",
    "\n",
    "# Remove data from greater than 40 years prior\n",
    "date_cleaned_df = accidents_df.loc[accidents_df[\"Event.Date\"] > \"1983-01-01\"] "
   ]
  },
  {
   "cell_type": "code",
   "execution_count": 68,
   "id": "5a2b7eab",
   "metadata": {},
   "outputs": [],
   "source": [
    "# Removing records of Amateur Built aircraft\n",
    "professional_builds = date_cleaned_df[date_cleaned_df[\"Amateur.Built\"] != \"Yes\"]\n",
    "professional_builds = professional_builds.drop([\"Amateur.Built\"], axis=1)"
   ]
  },
  {
   "cell_type": "code",
   "execution_count": 69,
   "id": "d04b938f-a3a3-490e-8fa4-f135be4b5f8d",
   "metadata": {},
   "outputs": [],
   "source": [
    "# Removing craft listed as non-airplane\n",
    "professional_builds.fillna({\"Aircraft.Category\":\"Airplane\"}, inplace=True)\n",
    "professional_airplanes = professional_builds.loc[professional_builds[\"Aircraft.Category\"]==\"Airplane\"]"
   ]
  },
  {
   "cell_type": "code",
   "execution_count": 86,
   "id": "3bd4df78-636c-46a7-b83a-9395bc0a7fd7",
   "metadata": {},
   "outputs": [
    {
     "data": {
      "text/html": [
       "<div>\n",
       "<style scoped>\n",
       "    .dataframe tbody tr th:only-of-type {\n",
       "        vertical-align: middle;\n",
       "    }\n",
       "\n",
       "    .dataframe tbody tr th {\n",
       "        vertical-align: top;\n",
       "    }\n",
       "\n",
       "    .dataframe thead th {\n",
       "        text-align: right;\n",
       "    }\n",
       "</style>\n",
       "<table border=\"1\" class=\"dataframe\">\n",
       "  <thead>\n",
       "    <tr style=\"text-align: right;\">\n",
       "      <th></th>\n",
       "      <th>Event.Id</th>\n",
       "      <th>Investigation.Type</th>\n",
       "      <th>Accident.Number</th>\n",
       "      <th>Event.Date</th>\n",
       "      <th>Location</th>\n",
       "      <th>Country</th>\n",
       "      <th>Latitude</th>\n",
       "      <th>Longitude</th>\n",
       "      <th>Airport.Code</th>\n",
       "      <th>Airport.Name</th>\n",
       "      <th>...</th>\n",
       "      <th>Air.carrier</th>\n",
       "      <th>Total.Fatal.Injuries</th>\n",
       "      <th>Total.Serious.Injuries</th>\n",
       "      <th>Total.Minor.Injuries</th>\n",
       "      <th>Total.Uninjured</th>\n",
       "      <th>Weather.Condition</th>\n",
       "      <th>Broad.phase.of.flight</th>\n",
       "      <th>Report.Status</th>\n",
       "      <th>Publication.Date</th>\n",
       "      <th>Total.Passengers</th>\n",
       "    </tr>\n",
       "  </thead>\n",
       "  <tbody>\n",
       "    <tr>\n",
       "      <th>3606</th>\n",
       "      <td>20001214X42064</td>\n",
       "      <td>Accident</td>\n",
       "      <td>MKC83LA051</td>\n",
       "      <td>1983-01-02</td>\n",
       "      <td>INDIANOLA, IA</td>\n",
       "      <td>United States</td>\n",
       "      <td>NaN</td>\n",
       "      <td>NaN</td>\n",
       "      <td>NaN</td>\n",
       "      <td>NaN</td>\n",
       "      <td>...</td>\n",
       "      <td>NaN</td>\n",
       "      <td>0.0</td>\n",
       "      <td>0.0</td>\n",
       "      <td>0.0</td>\n",
       "      <td>1.0</td>\n",
       "      <td>VMC</td>\n",
       "      <td>Landing</td>\n",
       "      <td>Probable Cause</td>\n",
       "      <td>NaN</td>\n",
       "      <td>1.0</td>\n",
       "    </tr>\n",
       "    <tr>\n",
       "      <th>3607</th>\n",
       "      <td>20001214X42010</td>\n",
       "      <td>Accident</td>\n",
       "      <td>LAX83FA064</td>\n",
       "      <td>1983-01-02</td>\n",
       "      <td>MONTEREY, CA</td>\n",
       "      <td>United States</td>\n",
       "      <td>NaN</td>\n",
       "      <td>NaN</td>\n",
       "      <td>NaN</td>\n",
       "      <td>NaN</td>\n",
       "      <td>...</td>\n",
       "      <td>NaN</td>\n",
       "      <td>0.0</td>\n",
       "      <td>0.0</td>\n",
       "      <td>0.0</td>\n",
       "      <td>0.0</td>\n",
       "      <td>VMC</td>\n",
       "      <td>Takeoff</td>\n",
       "      <td>Probable Cause</td>\n",
       "      <td>NaN</td>\n",
       "      <td>0.0</td>\n",
       "    </tr>\n",
       "    <tr>\n",
       "      <th>3608</th>\n",
       "      <td>20001214X41937</td>\n",
       "      <td>Accident</td>\n",
       "      <td>CHI83FA069</td>\n",
       "      <td>1983-01-02</td>\n",
       "      <td>GENOA CITY, WI</td>\n",
       "      <td>United States</td>\n",
       "      <td>NaN</td>\n",
       "      <td>NaN</td>\n",
       "      <td>64C</td>\n",
       "      <td>VINCENT</td>\n",
       "      <td>...</td>\n",
       "      <td>NaN</td>\n",
       "      <td>2.0</td>\n",
       "      <td>2.0</td>\n",
       "      <td>2.0</td>\n",
       "      <td>0.0</td>\n",
       "      <td>VMC</td>\n",
       "      <td>Maneuvering</td>\n",
       "      <td>Probable Cause</td>\n",
       "      <td>NaN</td>\n",
       "      <td>6.0</td>\n",
       "    </tr>\n",
       "    <tr>\n",
       "      <th>3609</th>\n",
       "      <td>20001214X41919</td>\n",
       "      <td>Accident</td>\n",
       "      <td>ATL83FA081</td>\n",
       "      <td>1983-01-02</td>\n",
       "      <td>BEAUFORT, SC</td>\n",
       "      <td>United States</td>\n",
       "      <td>NaN</td>\n",
       "      <td>NaN</td>\n",
       "      <td>NaN</td>\n",
       "      <td>NaN</td>\n",
       "      <td>...</td>\n",
       "      <td>NaN</td>\n",
       "      <td>3.0</td>\n",
       "      <td>3.0</td>\n",
       "      <td>3.0</td>\n",
       "      <td>0.0</td>\n",
       "      <td>IMC</td>\n",
       "      <td>Cruise</td>\n",
       "      <td>Probable Cause</td>\n",
       "      <td>NaN</td>\n",
       "      <td>9.0</td>\n",
       "    </tr>\n",
       "    <tr>\n",
       "      <th>3610</th>\n",
       "      <td>20001214X42051</td>\n",
       "      <td>Accident</td>\n",
       "      <td>MIA83LA056</td>\n",
       "      <td>1983-01-02</td>\n",
       "      <td>NEAR VERO BEACH, FL</td>\n",
       "      <td>United States</td>\n",
       "      <td>NaN</td>\n",
       "      <td>NaN</td>\n",
       "      <td>NaN</td>\n",
       "      <td>NaN</td>\n",
       "      <td>...</td>\n",
       "      <td>NaN</td>\n",
       "      <td>0.0</td>\n",
       "      <td>0.0</td>\n",
       "      <td>0.0</td>\n",
       "      <td>2.0</td>\n",
       "      <td>VMC</td>\n",
       "      <td>Maneuvering</td>\n",
       "      <td>Probable Cause</td>\n",
       "      <td>NaN</td>\n",
       "      <td>2.0</td>\n",
       "    </tr>\n",
       "  </tbody>\n",
       "</table>\n",
       "<p>5 rows × 31 columns</p>\n",
       "</div>"
      ],
      "text/plain": [
       "            Event.Id Investigation.Type Accident.Number Event.Date  \\\n",
       "3606  20001214X42064           Accident      MKC83LA051 1983-01-02   \n",
       "3607  20001214X42010           Accident      LAX83FA064 1983-01-02   \n",
       "3608  20001214X41937           Accident      CHI83FA069 1983-01-02   \n",
       "3609  20001214X41919           Accident      ATL83FA081 1983-01-02   \n",
       "3610  20001214X42051           Accident      MIA83LA056 1983-01-02   \n",
       "\n",
       "                 Location        Country Latitude Longitude Airport.Code  \\\n",
       "3606        INDIANOLA, IA  United States      NaN       NaN          NaN   \n",
       "3607         MONTEREY, CA  United States      NaN       NaN          NaN   \n",
       "3608       GENOA CITY, WI  United States      NaN       NaN          64C   \n",
       "3609         BEAUFORT, SC  United States      NaN       NaN          NaN   \n",
       "3610  NEAR VERO BEACH, FL  United States      NaN       NaN          NaN   \n",
       "\n",
       "     Airport.Name  ... Air.carrier Total.Fatal.Injuries  \\\n",
       "3606          NaN  ...         NaN                  0.0   \n",
       "3607          NaN  ...         NaN                  0.0   \n",
       "3608      VINCENT  ...         NaN                  2.0   \n",
       "3609          NaN  ...         NaN                  3.0   \n",
       "3610          NaN  ...         NaN                  0.0   \n",
       "\n",
       "     Total.Serious.Injuries Total.Minor.Injuries Total.Uninjured  \\\n",
       "3606                    0.0                  0.0             1.0   \n",
       "3607                    0.0                  0.0             0.0   \n",
       "3608                    2.0                  2.0             0.0   \n",
       "3609                    3.0                  3.0             0.0   \n",
       "3610                    0.0                  0.0             2.0   \n",
       "\n",
       "     Weather.Condition  Broad.phase.of.flight   Report.Status  \\\n",
       "3606               VMC                Landing  Probable Cause   \n",
       "3607               VMC                Takeoff  Probable Cause   \n",
       "3608               VMC            Maneuvering  Probable Cause   \n",
       "3609               IMC                 Cruise  Probable Cause   \n",
       "3610               VMC            Maneuvering  Probable Cause   \n",
       "\n",
       "     Publication.Date Total.Passengers  \n",
       "3606              NaN              1.0  \n",
       "3607              NaN              0.0  \n",
       "3608              NaN              6.0  \n",
       "3609              NaN              9.0  \n",
       "3610              NaN              2.0  \n",
       "\n",
       "[5 rows x 31 columns]"
      ]
     },
     "execution_count": 86,
     "metadata": {},
     "output_type": "execute_result"
    }
   ],
   "source": [
    "professional_airplanes.head()"
   ]
  },
  {
   "cell_type": "code",
   "execution_count": null,
   "id": "05b26af2-2908-4351-94f4-b70506deac76",
   "metadata": {},
   "outputs": [],
   "source": []
  },
  {
   "cell_type": "markdown",
   "id": "7f766983-e87b-467b-b3d1-00346dbcb17d",
   "metadata": {},
   "source": [
    "## Data Cleaning"
   ]
  },
  {
   "cell_type": "markdown",
   "id": "36d26002",
   "metadata": {},
   "source": [
    "### Cleaning and constructing Key Measurables\n",
    "\n",
    "Injuries and robustness to destruction are a key interest point for the client. Clean and impute relevant columns and then create derived fields that best quantifies what the client wishes to track. **Use commenting or markdown to explain any cleaning assumptions as well as any derived columns you create.**"
   ]
  },
  {
   "cell_type": "markdown",
   "id": "070b08f8",
   "metadata": {},
   "source": [
    "**Construct metric for fatal/serious injuries**\n",
    "\n",
    "*Hint:* Estimate the total number of passengers on each flight. The likelihood of serious / fatal injury can be estimated as a fraction from this."
   ]
  },
  {
   "cell_type": "code",
   "execution_count": 74,
   "id": "68972efa-753a-48a9-8e4d-872f6221288b",
   "metadata": {},
   "outputs": [
    {
     "name": "stdout",
     "output_type": "stream",
     "text": [
      "Injury Means:\n",
      "0.597376125201784 0.597376125201784 0.597376125201784 6.182222742709919\n",
      "Injury Medians:\n",
      "0.0 0.0 0.0 1.0\n"
     ]
    }
   ],
   "source": [
    "# Calculating and printing mean and median for injury columns\n",
    "fatal_mean = professional_airplanes[\"Total.Fatal.Injuries\"].mean()\n",
    "serious_mean = professional_airplanes[\"Total.Serious.Injuries\"].mean()\n",
    "minor_mean = professional_airplanes[\"Total.Minor.Injuries\"].mean()\n",
    "uninjured_mean = professional_airplanes[\"Total.Uninjured\"].mean()\n",
    "\n",
    "fatal_median = professional_airplanes[\"Total.Fatal.Injuries\"].median()\n",
    "serious_median = professional_airplanes[\"Total.Serious.Injuries\"].median()\n",
    "minor_median = professional_airplanes[\"Total.Minor.Injuries\"].median()\n",
    "uninjured_median = professional_airplanes[\"Total.Uninjured\"].median()\n",
    "\n",
    "print(\"Injury Means:\")\n",
    "print(fatal_mean, serious_mean, minor_mean, uninjured_mean)\n",
    "print(\"Injury Medians:\")\n",
    "print(fatal_median, serious_median, minor_median, uninjured_median)"
   ]
  },
  {
   "cell_type": "code",
   "execution_count": 75,
   "id": "f9f08f08-d713-43ef-9cf0-293866d957da",
   "metadata": {},
   "outputs": [
    {
     "name": "stderr",
     "output_type": "stream",
     "text": [
      "C:\\Users\\jesch\\AppData\\Local\\Temp\\ipykernel_6520\\2790052171.py:2: SettingWithCopyWarning: \n",
      "A value is trying to be set on a copy of a slice from a DataFrame.\n",
      "Try using .loc[row_indexer,col_indexer] = value instead\n",
      "\n",
      "See the caveats in the documentation: https://pandas.pydata.org/pandas-docs/stable/user_guide/indexing.html#returning-a-view-versus-a-copy\n",
      "  professional_airplanes[\"Total.Fatal.Injuries\"] = professional_airplanes[\"Total.Fatal.Injuries\"].fillna(0)\n",
      "C:\\Users\\jesch\\AppData\\Local\\Temp\\ipykernel_6520\\2790052171.py:3: SettingWithCopyWarning: \n",
      "A value is trying to be set on a copy of a slice from a DataFrame.\n",
      "Try using .loc[row_indexer,col_indexer] = value instead\n",
      "\n",
      "See the caveats in the documentation: https://pandas.pydata.org/pandas-docs/stable/user_guide/indexing.html#returning-a-view-versus-a-copy\n",
      "  professional_airplanes[\"Total.Serious.Injuries\"] = professional_airplanes[\"Total.Fatal.Injuries\"].fillna(0)\n",
      "C:\\Users\\jesch\\AppData\\Local\\Temp\\ipykernel_6520\\2790052171.py:4: SettingWithCopyWarning: \n",
      "A value is trying to be set on a copy of a slice from a DataFrame.\n",
      "Try using .loc[row_indexer,col_indexer] = value instead\n",
      "\n",
      "See the caveats in the documentation: https://pandas.pydata.org/pandas-docs/stable/user_guide/indexing.html#returning-a-view-versus-a-copy\n",
      "  professional_airplanes[\"Total.Minor.Injuries\"] = professional_airplanes[\"Total.Fatal.Injuries\"].fillna(0)\n",
      "C:\\Users\\jesch\\AppData\\Local\\Temp\\ipykernel_6520\\2790052171.py:7: SettingWithCopyWarning: \n",
      "A value is trying to be set on a copy of a slice from a DataFrame.\n",
      "Try using .loc[row_indexer,col_indexer] = value instead\n",
      "\n",
      "See the caveats in the documentation: https://pandas.pydata.org/pandas-docs/stable/user_guide/indexing.html#returning-a-view-versus-a-copy\n",
      "  professional_airplanes[\"Total.Uninjured\"] = professional_airplanes[\"Total.Uninjured\"].fillna(1)\n"
     ]
    }
   ],
   "source": [
    "# Replacing nulls with 0 for injury columns with medians of 0 and means less than 1\n",
    "professional_airplanes[\"Total.Fatal.Injuries\"] = professional_airplanes[\"Total.Fatal.Injuries\"].fillna(0)\n",
    "professional_airplanes[\"Total.Serious.Injuries\"] = professional_airplanes[\"Total.Fatal.Injuries\"].fillna(0)\n",
    "professional_airplanes[\"Total.Minor.Injuries\"] = professional_airplanes[\"Total.Fatal.Injuries\"].fillna(0)\n",
    "\n",
    "# Replacing uninjured with the median value of 1\n",
    "professional_airplanes[\"Total.Uninjured\"] = professional_airplanes[\"Total.Uninjured\"].fillna(1)"
   ]
  },
  {
   "cell_type": "code",
   "execution_count": 79,
   "id": "ff337a08-b6ce-4e36-801b-07680bf1a7cb",
   "metadata": {},
   "outputs": [
    {
     "name": "stdout",
     "output_type": "stream",
     "text": [
      "<class 'pandas.core.frame.DataFrame'>\n",
      "Index: 73098 entries, 3606 to Total.Minor.Injuries\n",
      "Data columns (total 30 columns):\n",
      " #   Column                  Non-Null Count  Dtype         \n",
      "---  ------                  --------------  -----         \n",
      " 0   Event.Id                73095 non-null  object        \n",
      " 1   Investigation.Type      73095 non-null  object        \n",
      " 2   Accident.Number         73095 non-null  object        \n",
      " 3   Event.Date              73095 non-null  datetime64[ns]\n",
      " 4   Location                73045 non-null  object        \n",
      " 5   Country                 72886 non-null  object        \n",
      " 6   Latitude                26637 non-null  object        \n",
      " 7   Longitude               26632 non-null  object        \n",
      " 8   Airport.Code            41834 non-null  object        \n",
      " 9   Airport.Name            43717 non-null  object        \n",
      " 10  Injury.Severity         72166 non-null  object        \n",
      " 11  Aircraft.damage         70152 non-null  object        \n",
      " 12  Aircraft.Category       73095 non-null  object        \n",
      " 13  Registration.Number     71843 non-null  object        \n",
      " 14  Make                    73048 non-null  object        \n",
      " 15  Model                   73026 non-null  object        \n",
      " 16  Number.of.Engines       67992 non-null  float64       \n",
      " 17  Engine.Type             67619 non-null  object        \n",
      " 18  FAR.Description         21326 non-null  object        \n",
      " 19  Schedule                11427 non-null  object        \n",
      " 20  Purpose.of.flight       67663 non-null  object        \n",
      " 21  Air.carrier             13172 non-null  object        \n",
      " 22  Total.Fatal.Injuries    73098 non-null  float64       \n",
      " 23  Total.Serious.Injuries  73098 non-null  float64       \n",
      " 24  Total.Minor.Injuries    73098 non-null  float64       \n",
      " 25  Total.Uninjured         73098 non-null  float64       \n",
      " 26  Weather.Condition       69282 non-null  object        \n",
      " 27  Broad.phase.of.flight   52272 non-null  object        \n",
      " 28  Report.Status           68011 non-null  object        \n",
      " 29  Publication.Date        60430 non-null  object        \n",
      "dtypes: datetime64[ns](1), float64(5), object(24)\n",
      "memory usage: 17.3+ MB\n"
     ]
    }
   ],
   "source": [
    "# Renaming dataframe for ease of coding\n",
    "airplane_df = professional_airplanes"
   ]
  },
  {
   "cell_type": "code",
   "execution_count": 82,
   "id": "3016932c-d149-41dd-acd4-930ee5f2e2d6",
   "metadata": {},
   "outputs": [
    {
     "name": "stderr",
     "output_type": "stream",
     "text": [
      "C:\\Users\\jesch\\AppData\\Local\\Temp\\ipykernel_6520\\3023909116.py:5: SettingWithCopyWarning: \n",
      "A value is trying to be set on a copy of a slice from a DataFrame.\n",
      "Try using .loc[row_indexer,col_indexer] = value instead\n",
      "\n",
      "See the caveats in the documentation: https://pandas.pydata.org/pandas-docs/stable/user_guide/indexing.html#returning-a-view-versus-a-copy\n",
      "  airplane_df[\"Total.Passengers\"] = airplane_df.apply(total_passenger, axis=1)\n"
     ]
    }
   ],
   "source": [
    "# Creating total passenger column\n",
    "def total_passenger(row):\n",
    "    return row[\"Total.Fatal.Injuries\"]+row[\"Total.Serious.Injuries\"]+row[\"Total.Minor.Injuries\"]+row[\"Total.Uninjured\"]\n",
    "\n",
    "airplane_df[\"Total.Passengers\"] = airplane_df.apply(total_passenger, axis=1)"
   ]
  },
  {
   "cell_type": "code",
   "execution_count": 83,
   "id": "19ee0b4f-bae2-47d0-8294-9f11c3aa57ef",
   "metadata": {},
   "outputs": [
    {
     "data": {
      "text/html": [
       "<div>\n",
       "<style scoped>\n",
       "    .dataframe tbody tr th:only-of-type {\n",
       "        vertical-align: middle;\n",
       "    }\n",
       "\n",
       "    .dataframe tbody tr th {\n",
       "        vertical-align: top;\n",
       "    }\n",
       "\n",
       "    .dataframe thead th {\n",
       "        text-align: right;\n",
       "    }\n",
       "</style>\n",
       "<table border=\"1\" class=\"dataframe\">\n",
       "  <thead>\n",
       "    <tr style=\"text-align: right;\">\n",
       "      <th></th>\n",
       "      <th>Event.Id</th>\n",
       "      <th>Investigation.Type</th>\n",
       "      <th>Accident.Number</th>\n",
       "      <th>Event.Date</th>\n",
       "      <th>Location</th>\n",
       "      <th>Country</th>\n",
       "      <th>Latitude</th>\n",
       "      <th>Longitude</th>\n",
       "      <th>Airport.Code</th>\n",
       "      <th>Airport.Name</th>\n",
       "      <th>...</th>\n",
       "      <th>Air.carrier</th>\n",
       "      <th>Total.Fatal.Injuries</th>\n",
       "      <th>Total.Serious.Injuries</th>\n",
       "      <th>Total.Minor.Injuries</th>\n",
       "      <th>Total.Uninjured</th>\n",
       "      <th>Weather.Condition</th>\n",
       "      <th>Broad.phase.of.flight</th>\n",
       "      <th>Report.Status</th>\n",
       "      <th>Publication.Date</th>\n",
       "      <th>Total.Passengers</th>\n",
       "    </tr>\n",
       "  </thead>\n",
       "  <tbody>\n",
       "    <tr>\n",
       "      <th>3606</th>\n",
       "      <td>20001214X42064</td>\n",
       "      <td>Accident</td>\n",
       "      <td>MKC83LA051</td>\n",
       "      <td>1983-01-02</td>\n",
       "      <td>INDIANOLA, IA</td>\n",
       "      <td>United States</td>\n",
       "      <td>NaN</td>\n",
       "      <td>NaN</td>\n",
       "      <td>NaN</td>\n",
       "      <td>NaN</td>\n",
       "      <td>...</td>\n",
       "      <td>NaN</td>\n",
       "      <td>0.0</td>\n",
       "      <td>0.0</td>\n",
       "      <td>0.0</td>\n",
       "      <td>1.0</td>\n",
       "      <td>VMC</td>\n",
       "      <td>Landing</td>\n",
       "      <td>Probable Cause</td>\n",
       "      <td>NaN</td>\n",
       "      <td>1.0</td>\n",
       "    </tr>\n",
       "    <tr>\n",
       "      <th>3607</th>\n",
       "      <td>20001214X42010</td>\n",
       "      <td>Accident</td>\n",
       "      <td>LAX83FA064</td>\n",
       "      <td>1983-01-02</td>\n",
       "      <td>MONTEREY, CA</td>\n",
       "      <td>United States</td>\n",
       "      <td>NaN</td>\n",
       "      <td>NaN</td>\n",
       "      <td>NaN</td>\n",
       "      <td>NaN</td>\n",
       "      <td>...</td>\n",
       "      <td>NaN</td>\n",
       "      <td>0.0</td>\n",
       "      <td>0.0</td>\n",
       "      <td>0.0</td>\n",
       "      <td>0.0</td>\n",
       "      <td>VMC</td>\n",
       "      <td>Takeoff</td>\n",
       "      <td>Probable Cause</td>\n",
       "      <td>NaN</td>\n",
       "      <td>0.0</td>\n",
       "    </tr>\n",
       "    <tr>\n",
       "      <th>3608</th>\n",
       "      <td>20001214X41937</td>\n",
       "      <td>Accident</td>\n",
       "      <td>CHI83FA069</td>\n",
       "      <td>1983-01-02</td>\n",
       "      <td>GENOA CITY, WI</td>\n",
       "      <td>United States</td>\n",
       "      <td>NaN</td>\n",
       "      <td>NaN</td>\n",
       "      <td>64C</td>\n",
       "      <td>VINCENT</td>\n",
       "      <td>...</td>\n",
       "      <td>NaN</td>\n",
       "      <td>2.0</td>\n",
       "      <td>2.0</td>\n",
       "      <td>2.0</td>\n",
       "      <td>0.0</td>\n",
       "      <td>VMC</td>\n",
       "      <td>Maneuvering</td>\n",
       "      <td>Probable Cause</td>\n",
       "      <td>NaN</td>\n",
       "      <td>6.0</td>\n",
       "    </tr>\n",
       "    <tr>\n",
       "      <th>3609</th>\n",
       "      <td>20001214X41919</td>\n",
       "      <td>Accident</td>\n",
       "      <td>ATL83FA081</td>\n",
       "      <td>1983-01-02</td>\n",
       "      <td>BEAUFORT, SC</td>\n",
       "      <td>United States</td>\n",
       "      <td>NaN</td>\n",
       "      <td>NaN</td>\n",
       "      <td>NaN</td>\n",
       "      <td>NaN</td>\n",
       "      <td>...</td>\n",
       "      <td>NaN</td>\n",
       "      <td>3.0</td>\n",
       "      <td>3.0</td>\n",
       "      <td>3.0</td>\n",
       "      <td>0.0</td>\n",
       "      <td>IMC</td>\n",
       "      <td>Cruise</td>\n",
       "      <td>Probable Cause</td>\n",
       "      <td>NaN</td>\n",
       "      <td>9.0</td>\n",
       "    </tr>\n",
       "    <tr>\n",
       "      <th>3610</th>\n",
       "      <td>20001214X42051</td>\n",
       "      <td>Accident</td>\n",
       "      <td>MIA83LA056</td>\n",
       "      <td>1983-01-02</td>\n",
       "      <td>NEAR VERO BEACH, FL</td>\n",
       "      <td>United States</td>\n",
       "      <td>NaN</td>\n",
       "      <td>NaN</td>\n",
       "      <td>NaN</td>\n",
       "      <td>NaN</td>\n",
       "      <td>...</td>\n",
       "      <td>NaN</td>\n",
       "      <td>0.0</td>\n",
       "      <td>0.0</td>\n",
       "      <td>0.0</td>\n",
       "      <td>2.0</td>\n",
       "      <td>VMC</td>\n",
       "      <td>Maneuvering</td>\n",
       "      <td>Probable Cause</td>\n",
       "      <td>NaN</td>\n",
       "      <td>2.0</td>\n",
       "    </tr>\n",
       "  </tbody>\n",
       "</table>\n",
       "<p>5 rows × 31 columns</p>\n",
       "</div>"
      ],
      "text/plain": [
       "            Event.Id Investigation.Type Accident.Number Event.Date  \\\n",
       "3606  20001214X42064           Accident      MKC83LA051 1983-01-02   \n",
       "3607  20001214X42010           Accident      LAX83FA064 1983-01-02   \n",
       "3608  20001214X41937           Accident      CHI83FA069 1983-01-02   \n",
       "3609  20001214X41919           Accident      ATL83FA081 1983-01-02   \n",
       "3610  20001214X42051           Accident      MIA83LA056 1983-01-02   \n",
       "\n",
       "                 Location        Country Latitude Longitude Airport.Code  \\\n",
       "3606        INDIANOLA, IA  United States      NaN       NaN          NaN   \n",
       "3607         MONTEREY, CA  United States      NaN       NaN          NaN   \n",
       "3608       GENOA CITY, WI  United States      NaN       NaN          64C   \n",
       "3609         BEAUFORT, SC  United States      NaN       NaN          NaN   \n",
       "3610  NEAR VERO BEACH, FL  United States      NaN       NaN          NaN   \n",
       "\n",
       "     Airport.Name  ... Air.carrier Total.Fatal.Injuries  \\\n",
       "3606          NaN  ...         NaN                  0.0   \n",
       "3607          NaN  ...         NaN                  0.0   \n",
       "3608      VINCENT  ...         NaN                  2.0   \n",
       "3609          NaN  ...         NaN                  3.0   \n",
       "3610          NaN  ...         NaN                  0.0   \n",
       "\n",
       "     Total.Serious.Injuries Total.Minor.Injuries Total.Uninjured  \\\n",
       "3606                    0.0                  0.0             1.0   \n",
       "3607                    0.0                  0.0             0.0   \n",
       "3608                    2.0                  2.0             0.0   \n",
       "3609                    3.0                  3.0             0.0   \n",
       "3610                    0.0                  0.0             2.0   \n",
       "\n",
       "     Weather.Condition  Broad.phase.of.flight   Report.Status  \\\n",
       "3606               VMC                Landing  Probable Cause   \n",
       "3607               VMC                Takeoff  Probable Cause   \n",
       "3608               VMC            Maneuvering  Probable Cause   \n",
       "3609               IMC                 Cruise  Probable Cause   \n",
       "3610               VMC            Maneuvering  Probable Cause   \n",
       "\n",
       "     Publication.Date Total.Passengers  \n",
       "3606              NaN              1.0  \n",
       "3607              NaN              0.0  \n",
       "3608              NaN              6.0  \n",
       "3609              NaN              9.0  \n",
       "3610              NaN              2.0  \n",
       "\n",
       "[5 rows x 31 columns]"
      ]
     },
     "execution_count": 83,
     "metadata": {},
     "output_type": "execute_result"
    }
   ],
   "source": [
    "airplane_df.head()"
   ]
  },
  {
   "cell_type": "code",
   "execution_count": 119,
   "id": "405f230e-0219-4948-b643-e62bade8975f",
   "metadata": {},
   "outputs": [],
   "source": [
    "# Filtering out any results with Total Passengers equal to zero\n",
    "airplane_filtered = airplane_df[airplane_df[\"Total.Passengers\"] != 0]"
   ]
  },
  {
   "cell_type": "code",
   "execution_count": 120,
   "id": "1058cbf3-7e3b-49fe-9da7-2943442f80ea",
   "metadata": {},
   "outputs": [
    {
     "name": "stderr",
     "output_type": "stream",
     "text": [
      "C:\\Users\\jesch\\AppData\\Local\\Temp\\ipykernel_6520\\1355685678.py:8: SettingWithCopyWarning: \n",
      "A value is trying to be set on a copy of a slice from a DataFrame.\n",
      "Try using .loc[row_indexer,col_indexer] = value instead\n",
      "\n",
      "See the caveats in the documentation: https://pandas.pydata.org/pandas-docs/stable/user_guide/indexing.html#returning-a-view-versus-a-copy\n",
      "  airplane_filtered[\"Fatality Ratio\"] = airplane_filtered.apply(fatal_ratio, axis=1)\n",
      "C:\\Users\\jesch\\AppData\\Local\\Temp\\ipykernel_6520\\1355685678.py:9: SettingWithCopyWarning: \n",
      "A value is trying to be set on a copy of a slice from a DataFrame.\n",
      "Try using .loc[row_indexer,col_indexer] = value instead\n",
      "\n",
      "See the caveats in the documentation: https://pandas.pydata.org/pandas-docs/stable/user_guide/indexing.html#returning-a-view-versus-a-copy\n",
      "  airplane_filtered[\"Serious Injury Ratio\"] = airplane_filtered.apply(serious_ratio, axis=1)\n"
     ]
    }
   ],
   "source": [
    "# Creating ratio columns for fatal and serious unjuries\n",
    "def fatal_ratio(row):\n",
    "    return row[\"Total.Fatal.Injuries\"]/row[\"Total.Passengers\"]\n",
    "\n",
    "def serious_ratio(row):\n",
    "    return row[\"Total.Serious.Injuries\"]/row[\"Total.Passengers\"]\n",
    "    \n",
    "airplane_filtered[\"Fatality Ratio\"] = airplane_filtered.apply(fatal_ratio, axis=1)\n",
    "airplane_filtered[\"Serious Injury Ratio\"] = airplane_filtered.apply(serious_ratio, axis=1)"
   ]
  },
  {
   "cell_type": "code",
   "execution_count": 101,
   "id": "488eb075-641f-4ecf-846d-94380af1b3f3",
   "metadata": {},
   "outputs": [
    {
     "data": {
      "text/html": [
       "<div>\n",
       "<style scoped>\n",
       "    .dataframe tbody tr th:only-of-type {\n",
       "        vertical-align: middle;\n",
       "    }\n",
       "\n",
       "    .dataframe tbody tr th {\n",
       "        vertical-align: top;\n",
       "    }\n",
       "\n",
       "    .dataframe thead th {\n",
       "        text-align: right;\n",
       "    }\n",
       "</style>\n",
       "<table border=\"1\" class=\"dataframe\">\n",
       "  <thead>\n",
       "    <tr style=\"text-align: right;\">\n",
       "      <th></th>\n",
       "      <th>Event.Id</th>\n",
       "      <th>Investigation.Type</th>\n",
       "      <th>Accident.Number</th>\n",
       "      <th>Event.Date</th>\n",
       "      <th>Location</th>\n",
       "      <th>Country</th>\n",
       "      <th>Latitude</th>\n",
       "      <th>Longitude</th>\n",
       "      <th>Airport.Code</th>\n",
       "      <th>Airport.Name</th>\n",
       "      <th>...</th>\n",
       "      <th>Total.Serious.Injuries</th>\n",
       "      <th>Total.Minor.Injuries</th>\n",
       "      <th>Total.Uninjured</th>\n",
       "      <th>Weather.Condition</th>\n",
       "      <th>Broad.phase.of.flight</th>\n",
       "      <th>Report.Status</th>\n",
       "      <th>Publication.Date</th>\n",
       "      <th>Total.Passengers</th>\n",
       "      <th>Fatality Ratio</th>\n",
       "      <th>Serious Injury Ratio</th>\n",
       "    </tr>\n",
       "  </thead>\n",
       "  <tbody>\n",
       "    <tr>\n",
       "      <th>3606</th>\n",
       "      <td>20001214X42064</td>\n",
       "      <td>Accident</td>\n",
       "      <td>MKC83LA051</td>\n",
       "      <td>1983-01-02</td>\n",
       "      <td>INDIANOLA, IA</td>\n",
       "      <td>United States</td>\n",
       "      <td>NaN</td>\n",
       "      <td>NaN</td>\n",
       "      <td>NaN</td>\n",
       "      <td>NaN</td>\n",
       "      <td>...</td>\n",
       "      <td>0.0</td>\n",
       "      <td>0.0</td>\n",
       "      <td>1.0</td>\n",
       "      <td>VMC</td>\n",
       "      <td>Landing</td>\n",
       "      <td>Probable Cause</td>\n",
       "      <td>NaN</td>\n",
       "      <td>1.0</td>\n",
       "      <td>0.000000</td>\n",
       "      <td>0.000000</td>\n",
       "    </tr>\n",
       "    <tr>\n",
       "      <th>3608</th>\n",
       "      <td>20001214X41937</td>\n",
       "      <td>Accident</td>\n",
       "      <td>CHI83FA069</td>\n",
       "      <td>1983-01-02</td>\n",
       "      <td>GENOA CITY, WI</td>\n",
       "      <td>United States</td>\n",
       "      <td>NaN</td>\n",
       "      <td>NaN</td>\n",
       "      <td>64C</td>\n",
       "      <td>VINCENT</td>\n",
       "      <td>...</td>\n",
       "      <td>2.0</td>\n",
       "      <td>2.0</td>\n",
       "      <td>0.0</td>\n",
       "      <td>VMC</td>\n",
       "      <td>Maneuvering</td>\n",
       "      <td>Probable Cause</td>\n",
       "      <td>NaN</td>\n",
       "      <td>6.0</td>\n",
       "      <td>0.333333</td>\n",
       "      <td>0.333333</td>\n",
       "    </tr>\n",
       "    <tr>\n",
       "      <th>3609</th>\n",
       "      <td>20001214X41919</td>\n",
       "      <td>Accident</td>\n",
       "      <td>ATL83FA081</td>\n",
       "      <td>1983-01-02</td>\n",
       "      <td>BEAUFORT, SC</td>\n",
       "      <td>United States</td>\n",
       "      <td>NaN</td>\n",
       "      <td>NaN</td>\n",
       "      <td>NaN</td>\n",
       "      <td>NaN</td>\n",
       "      <td>...</td>\n",
       "      <td>3.0</td>\n",
       "      <td>3.0</td>\n",
       "      <td>0.0</td>\n",
       "      <td>IMC</td>\n",
       "      <td>Cruise</td>\n",
       "      <td>Probable Cause</td>\n",
       "      <td>NaN</td>\n",
       "      <td>9.0</td>\n",
       "      <td>0.333333</td>\n",
       "      <td>0.333333</td>\n",
       "    </tr>\n",
       "    <tr>\n",
       "      <th>3610</th>\n",
       "      <td>20001214X42051</td>\n",
       "      <td>Accident</td>\n",
       "      <td>MIA83LA056</td>\n",
       "      <td>1983-01-02</td>\n",
       "      <td>NEAR VERO BEACH, FL</td>\n",
       "      <td>United States</td>\n",
       "      <td>NaN</td>\n",
       "      <td>NaN</td>\n",
       "      <td>NaN</td>\n",
       "      <td>NaN</td>\n",
       "      <td>...</td>\n",
       "      <td>0.0</td>\n",
       "      <td>0.0</td>\n",
       "      <td>2.0</td>\n",
       "      <td>VMC</td>\n",
       "      <td>Maneuvering</td>\n",
       "      <td>Probable Cause</td>\n",
       "      <td>NaN</td>\n",
       "      <td>2.0</td>\n",
       "      <td>0.000000</td>\n",
       "      <td>0.000000</td>\n",
       "    </tr>\n",
       "    <tr>\n",
       "      <th>3611</th>\n",
       "      <td>20001214X41994</td>\n",
       "      <td>Accident</td>\n",
       "      <td>FTW83LA073</td>\n",
       "      <td>1983-01-02</td>\n",
       "      <td>BIG SPRING, TX</td>\n",
       "      <td>United States</td>\n",
       "      <td>NaN</td>\n",
       "      <td>NaN</td>\n",
       "      <td>21XS</td>\n",
       "      <td>BIG SPRING MUNICIPAL</td>\n",
       "      <td>...</td>\n",
       "      <td>0.0</td>\n",
       "      <td>0.0</td>\n",
       "      <td>3.0</td>\n",
       "      <td>VMC</td>\n",
       "      <td>Takeoff</td>\n",
       "      <td>Probable Cause</td>\n",
       "      <td>NaN</td>\n",
       "      <td>3.0</td>\n",
       "      <td>0.000000</td>\n",
       "      <td>0.000000</td>\n",
       "    </tr>\n",
       "  </tbody>\n",
       "</table>\n",
       "<p>5 rows × 33 columns</p>\n",
       "</div>"
      ],
      "text/plain": [
       "            Event.Id Investigation.Type Accident.Number Event.Date  \\\n",
       "3606  20001214X42064           Accident      MKC83LA051 1983-01-02   \n",
       "3608  20001214X41937           Accident      CHI83FA069 1983-01-02   \n",
       "3609  20001214X41919           Accident      ATL83FA081 1983-01-02   \n",
       "3610  20001214X42051           Accident      MIA83LA056 1983-01-02   \n",
       "3611  20001214X41994           Accident      FTW83LA073 1983-01-02   \n",
       "\n",
       "                 Location        Country Latitude Longitude Airport.Code  \\\n",
       "3606        INDIANOLA, IA  United States      NaN       NaN          NaN   \n",
       "3608       GENOA CITY, WI  United States      NaN       NaN          64C   \n",
       "3609         BEAUFORT, SC  United States      NaN       NaN          NaN   \n",
       "3610  NEAR VERO BEACH, FL  United States      NaN       NaN          NaN   \n",
       "3611       BIG SPRING, TX  United States      NaN       NaN         21XS   \n",
       "\n",
       "              Airport.Name  ... Total.Serious.Injuries Total.Minor.Injuries  \\\n",
       "3606                   NaN  ...                    0.0                  0.0   \n",
       "3608               VINCENT  ...                    2.0                  2.0   \n",
       "3609                   NaN  ...                    3.0                  3.0   \n",
       "3610                   NaN  ...                    0.0                  0.0   \n",
       "3611  BIG SPRING MUNICIPAL  ...                    0.0                  0.0   \n",
       "\n",
       "     Total.Uninjured Weather.Condition Broad.phase.of.flight   Report.Status  \\\n",
       "3606             1.0               VMC               Landing  Probable Cause   \n",
       "3608             0.0               VMC           Maneuvering  Probable Cause   \n",
       "3609             0.0               IMC                Cruise  Probable Cause   \n",
       "3610             2.0               VMC           Maneuvering  Probable Cause   \n",
       "3611             3.0               VMC               Takeoff  Probable Cause   \n",
       "\n",
       "      Publication.Date Total.Passengers Fatality Ratio Serious Injury Ratio  \n",
       "3606               NaN              1.0       0.000000             0.000000  \n",
       "3608               NaN              6.0       0.333333             0.333333  \n",
       "3609               NaN              9.0       0.333333             0.333333  \n",
       "3610               NaN              2.0       0.000000             0.000000  \n",
       "3611               NaN              3.0       0.000000             0.000000  \n",
       "\n",
       "[5 rows x 33 columns]"
      ]
     },
     "execution_count": 101,
     "metadata": {},
     "output_type": "execute_result"
    }
   ],
   "source": [
    "airplane_filtered.head()"
   ]
  },
  {
   "cell_type": "markdown",
   "id": "6c89136b",
   "metadata": {},
   "source": [
    "**Aircraft.Damage**\n",
    "- identify and execute any cleaning tasks\n",
    "- construct a derived column tracking whether an aircraft was destroyed or not."
   ]
  },
  {
   "cell_type": "code",
   "execution_count": 121,
   "id": "91b518b1",
   "metadata": {},
   "outputs": [
    {
     "name": "stderr",
     "output_type": "stream",
     "text": [
      "C:\\Users\\jesch\\AppData\\Local\\Temp\\ipykernel_6520\\4074366189.py:2: SettingWithCopyWarning: \n",
      "A value is trying to be set on a copy of a slice from a DataFrame.\n",
      "Try using .loc[row_indexer,col_indexer] = value instead\n",
      "\n",
      "See the caveats in the documentation: https://pandas.pydata.org/pandas-docs/stable/user_guide/indexing.html#returning-a-view-versus-a-copy\n",
      "  airplane_filtered[\"Aircraft Destroyed?\"] = airplane_filtered[\"Aircraft.damage\"]==\"Destroyed\"\n"
     ]
    }
   ],
   "source": [
    "# Boolean column created for True if Aircraft listed as destroyed\n",
    "airplane_filtered[\"Aircraft Destroyed?\"] = airplane_filtered[\"Aircraft.damage\"]==\"Destroyed\""
   ]
  },
  {
   "cell_type": "markdown",
   "id": "e9d8af9b",
   "metadata": {},
   "source": [
    "### Investigate the *Make* column\n",
    "- Identify cleaning tasks here\n",
    "- List cleaning tasks clearly in markdown\n",
    "- Execute the cleaning tasks\n",
    "- For your analysis, keep Makes with a reasonable number (you can put the threshold at 50 though lower could work as well)"
   ]
  },
  {
   "cell_type": "code",
   "execution_count": 122,
   "id": "1ccc245f-c656-4b9b-b7af-06279179093d",
   "metadata": {},
   "outputs": [],
   "source": [
    "# Dropping nulls from make\n",
    "airplane_filtered = airplane_filtered.dropna(subset=[\"Make\"])"
   ]
  },
  {
   "cell_type": "code",
   "execution_count": 123,
   "id": "cf9005cf",
   "metadata": {},
   "outputs": [
    {
     "data": {
      "text/plain": [
       "Make\n",
       "Cessna                    17744\n",
       "Piper                      9522\n",
       "CESSNA                     4057\n",
       "Beech                      3563\n",
       "PIPER                      2308\n",
       "                          ...  \n",
       "NAVAL AIRCRAFT FACTORY        1\n",
       "Carlson Aircraft              1\n",
       "PARTENAVIA SPA                1\n",
       "Wsk                           1\n",
       "JAMES R DERNOVSEK             1\n",
       "Name: count, Length: 1610, dtype: int64"
      ]
     },
     "execution_count": 123,
     "metadata": {},
     "output_type": "execute_result"
    }
   ],
   "source": [
    "# Checking Make values\n",
    "airplane_filtered[\"Make\"].value_counts()"
   ]
  },
  {
   "cell_type": "code",
   "execution_count": 124,
   "id": "d582b839-103d-4787-9413-9f2d871f4712",
   "metadata": {},
   "outputs": [],
   "source": [
    "# Stripping and capitalizing Make Names\n",
    "airplane_filtered[\"Make\"] = airplane_filtered[\"Make\"].str.strip()\n",
    "airplane_filtered[\"Make\"] = airplane_filtered[\"Make\"].str.capitalize()"
   ]
  },
  {
   "cell_type": "code",
   "execution_count": 125,
   "id": "242058a2-cf23-44ce-a397-25c4fd3715b4",
   "metadata": {},
   "outputs": [
    {
     "data": {
      "text/plain": [
       "Make\n",
       "Cessna                            21801\n",
       "Piper                             11830\n",
       "Beech                              4417\n",
       "Boeing                             2108\n",
       "Bell                               1405\n",
       "                                  ...  \n",
       "Briegleb                              1\n",
       "Bell-moore                            1\n",
       "Extra flugzeugproduktions-gmbh        1\n",
       "Columbia aircraft mfg.                1\n",
       "James r dernovsek                     1\n",
       "Name: count, Length: 1323, dtype: int64"
      ]
     },
     "execution_count": 125,
     "metadata": {},
     "output_type": "execute_result"
    }
   ],
   "source": [
    "# Recheck\n",
    "airplane_filtered[\"Make\"].value_counts()"
   ]
  },
  {
   "cell_type": "code",
   "execution_count": 138,
   "id": "1bc54279-71e5-4321-a1e2-cb19f1daad51",
   "metadata": {},
   "outputs": [],
   "source": [
    "# Removing Makes with fewer than 50 mentions\n",
    "value_counts = airplane_filtered[\"Make\"].value_counts()\n",
    "restricted_value_counts = value_counts>=50\n",
    "restricted_value_counts = restricted_value_counts[restricted_value_counts == False]\n",
    "drop_list = restricted_value_counts.index\n",
    "\n",
    "airplane_makes_cut = airplane_filtered[~airplane_filtered[\"Make\"].isin(drop_list)]"
   ]
  },
  {
   "cell_type": "code",
   "execution_count": 140,
   "id": "a13f8933-2b5c-4101-b680-c560db5933d2",
   "metadata": {},
   "outputs": [
    {
     "data": {
      "text/plain": [
       "Make\n",
       "Cessna         21801\n",
       "Piper          11830\n",
       "Beech           4417\n",
       "Boeing          2108\n",
       "Bell            1405\n",
       "               ...  \n",
       "Schleicher        54\n",
       "Ercoupe           54\n",
       "Pilatus           51\n",
       "Mbb               50\n",
       "Great lakes       50\n",
       "Name: count, Length: 78, dtype: int64"
      ]
     },
     "execution_count": 140,
     "metadata": {},
     "output_type": "execute_result"
    }
   ],
   "source": [
    "# Check\n",
    "airplane_makes_cut[\"Make\"].value_counts()"
   ]
  },
  {
   "cell_type": "markdown",
   "id": "6ed9f3c2",
   "metadata": {},
   "source": [
    "### Inspect Model column\n",
    "- Get rid of any NaNs.\n",
    "- Inspect the column and counts for each model/make. Are model labels unique to each make?\n",
    "- If not, create a derived column that is a unique identifier for a given plane type."
   ]
  },
  {
   "cell_type": "code",
   "execution_count": 142,
   "id": "05f20594",
   "metadata": {},
   "outputs": [],
   "source": [
    "# Drop Model Nulls\n",
    "\n",
    "airplane_model_cut = airplane_makes_cut.dropna(subset=[\"Model\"])"
   ]
  },
  {
   "cell_type": "code",
   "execution_count": 143,
   "id": "9d6ac1c6-c0b3-4d03-b86d-fb7f2fab49d3",
   "metadata": {},
   "outputs": [
    {
     "name": "stdout",
     "output_type": "stream",
     "text": [
      "<class 'pandas.core.frame.DataFrame'>\n",
      "Index: 56320 entries, 3606 to 88888\n",
      "Data columns (total 34 columns):\n",
      " #   Column                  Non-Null Count  Dtype         \n",
      "---  ------                  --------------  -----         \n",
      " 0   Event.Id                56320 non-null  object        \n",
      " 1   Investigation.Type      56320 non-null  object        \n",
      " 2   Accident.Number         56320 non-null  object        \n",
      " 3   Event.Date              56320 non-null  datetime64[ns]\n",
      " 4   Location                56280 non-null  object        \n",
      " 5   Country                 56164 non-null  object        \n",
      " 6   Latitude                20638 non-null  object        \n",
      " 7   Longitude               20634 non-null  object        \n",
      " 8   Airport.Code            33015 non-null  object        \n",
      " 9   Airport.Name            34544 non-null  object        \n",
      " 10  Injury.Severity         56320 non-null  object        \n",
      " 11  Aircraft.damage         54257 non-null  object        \n",
      " 12  Aircraft.Category       56320 non-null  object        \n",
      " 13  Registration.Number     55246 non-null  object        \n",
      " 14  Make                    56320 non-null  object        \n",
      " 15  Model                   56320 non-null  object        \n",
      " 16  Number.of.Engines       52950 non-null  float64       \n",
      " 17  Engine.Type             52777 non-null  object        \n",
      " 18  FAR.Description         15245 non-null  object        \n",
      " 19  Schedule                8900 non-null   object        \n",
      " 20  Purpose.of.flight       52490 non-null  object        \n",
      " 21  Air.carrier             9584 non-null   object        \n",
      " 22  Total.Fatal.Injuries    56320 non-null  float64       \n",
      " 23  Total.Serious.Injuries  56320 non-null  float64       \n",
      " 24  Total.Minor.Injuries    56320 non-null  float64       \n",
      " 25  Total.Uninjured         56320 non-null  float64       \n",
      " 26  Weather.Condition       54014 non-null  object        \n",
      " 27  Broad.phase.of.flight   41888 non-null  object        \n",
      " 28  Report.Status           53275 non-null  object        \n",
      " 29  Publication.Date        46677 non-null  object        \n",
      " 30  Total.Passengers        56320 non-null  float64       \n",
      " 31  Fatality Ratio          56320 non-null  float64       \n",
      " 32  Serious Injury Ratio    56320 non-null  float64       \n",
      " 33  Aircraft Destroyed?     56320 non-null  bool          \n",
      "dtypes: bool(1), datetime64[ns](1), float64(8), object(24)\n",
      "memory usage: 14.7+ MB\n"
     ]
    }
   ],
   "source": [
    "# Check\n",
    "\n",
    "airplane_model_cut.info()"
   ]
  },
  {
   "cell_type": "code",
   "execution_count": 148,
   "id": "47c73aea-b3d9-416a-945f-77502ffb04be",
   "metadata": {},
   "outputs": [
    {
     "name": "stderr",
     "output_type": "stream",
     "text": [
      "C:\\Users\\jesch\\AppData\\Local\\Temp\\ipykernel_6520\\3216716133.py:2: SettingWithCopyWarning: \n",
      "A value is trying to be set on a copy of a slice from a DataFrame.\n",
      "Try using .loc[row_indexer,col_indexer] = value instead\n",
      "\n",
      "See the caveats in the documentation: https://pandas.pydata.org/pandas-docs/stable/user_guide/indexing.html#returning-a-view-versus-a-copy\n",
      "  airplane_model_cut[\"Model\"] = airplane_model_cut[\"Model\"].str.strip()\n"
     ]
    },
    {
     "data": {
      "text/plain": [
       "Model\n",
       "152          1920\n",
       "172          1378\n",
       "172N          936\n",
       "PA-28-140     651\n",
       "172M          637\n",
       "             ... \n",
       "TC19            1\n",
       "DW-1            1\n",
       "146-300A        1\n",
       "305B            1\n",
       "P63             1\n",
       "Name: count, Length: 5191, dtype: int64"
      ]
     },
     "execution_count": 148,
     "metadata": {},
     "output_type": "execute_result"
    }
   ],
   "source": [
    "# Stripping Model strings and checking counts\n",
    "airplane_model_cut[\"Model\"] = airplane_model_cut[\"Model\"].str.strip()\n",
    "airplane_model_cut[\"Model\"].value_counts()"
   ]
  },
  {
   "cell_type": "code",
   "execution_count": 150,
   "id": "0d4808cf-2022-4bfc-80f6-96e61f1e1fa7",
   "metadata": {},
   "outputs": [
    {
     "name": "stderr",
     "output_type": "stream",
     "text": [
      "C:\\Users\\jesch\\AppData\\Local\\Temp\\ipykernel_6520\\1889989705.py:3: SettingWithCopyWarning: \n",
      "A value is trying to be set on a copy of a slice from a DataFrame.\n",
      "Try using .loc[row_indexer,col_indexer] = value instead\n",
      "\n",
      "See the caveats in the documentation: https://pandas.pydata.org/pandas-docs/stable/user_guide/indexing.html#returning-a-view-versus-a-copy\n",
      "  airplane_model_cut[\"Make - Model\"] = airplane_model_cut[\"Make\"] + \" - \" + airplane_model_cut[\"Model\"]\n"
     ]
    }
   ],
   "source": [
    "# Creating combined \"Make - Model\" column\n",
    "\n",
    "airplane_model_cut[\"Make - Model\"] = airplane_model_cut[\"Make\"] + \" - \" + airplane_model_cut[\"Model\"]"
   ]
  },
  {
   "cell_type": "code",
   "execution_count": 151,
   "id": "f0980135-8677-4eec-a621-4f59eb317641",
   "metadata": {},
   "outputs": [
    {
     "data": {
      "text/plain": [
       "Make - Model\n",
       "Cessna - 152             1920\n",
       "Cessna - 172             1378\n",
       "Cessna - 172N             936\n",
       "Piper - PA-28-140         651\n",
       "Cessna - 172M             637\n",
       "                         ... \n",
       "Stinson - ST-108-2          1\n",
       "Schleicher - ASW 20 B       1\n",
       "Weatherly - 201             1\n",
       "Piper - J2                  1\n",
       "Bell - P63                  1\n",
       "Name: count, Length: 5641, dtype: int64"
      ]
     },
     "execution_count": 151,
     "metadata": {},
     "output_type": "execute_result"
    }
   ],
   "source": [
    "airplane_model_cut[\"Make - Model\"].value_counts()"
   ]
  },
  {
   "cell_type": "markdown",
   "id": "9a173ebd",
   "metadata": {},
   "source": [
    "### Cleaning other columns\n",
    "- there are other columns containing data that might be related to the outcome of an accident. We list a few here:\n",
    "- Engine.Type\n",
    "- Weather.Condition\n",
    "- Number.of.Engines\n",
    "- Purpose.of.flight\n",
    "- Broad.phase.of.flight\n",
    "\n",
    "Inspect and identify potential cleaning tasks in each of the above columns. Execute those cleaning tasks. \n",
    "\n",
    "**Note**: You do not necessarily need to impute or drop NaNs here."
   ]
  },
  {
   "cell_type": "code",
   "execution_count": 152,
   "id": "01df492e",
   "metadata": {},
   "outputs": [
    {
     "data": {
      "text/plain": [
       "Engine.Type\n",
       "Reciprocating      44893\n",
       "Turbo Prop          2521\n",
       "Turbo Fan           2028\n",
       "Turbo Shaft         1663\n",
       "Unknown             1152\n",
       "Turbo Jet            519\n",
       "Geared Turbofan        1\n",
       "Name: count, dtype: int64"
      ]
     },
     "execution_count": 152,
     "metadata": {},
     "output_type": "execute_result"
    }
   ],
   "source": [
    "# Checking engine types\n",
    "airplane_model_cut[\"Engine.Type\"].value_counts()"
   ]
  },
  {
   "cell_type": "code",
   "execution_count": 153,
   "id": "82977be4-d519-4f93-be48-1c3acb81dac1",
   "metadata": {},
   "outputs": [
    {
     "data": {
      "text/plain": [
       "Weather.Condition\n",
       "VMC    48654\n",
       "IMC     4574\n",
       "UNK      620\n",
       "Unk      166\n",
       "Name: count, dtype: int64"
      ]
     },
     "execution_count": 153,
     "metadata": {},
     "output_type": "execute_result"
    }
   ],
   "source": [
    "# Checking Weather conditions\n",
    "airplane_model_cut[\"Weather.Condition\"].value_counts()"
   ]
  },
  {
   "cell_type": "code",
   "execution_count": 154,
   "id": "0d9f01be-669b-46fb-ad4e-794c51bb4363",
   "metadata": {},
   "outputs": [
    {
     "name": "stderr",
     "output_type": "stream",
     "text": [
      "C:\\Users\\jesch\\AppData\\Local\\Temp\\ipykernel_6520\\3452080468.py:2: SettingWithCopyWarning: \n",
      "A value is trying to be set on a copy of a slice from a DataFrame.\n",
      "Try using .loc[row_indexer,col_indexer] = value instead\n",
      "\n",
      "See the caveats in the documentation: https://pandas.pydata.org/pandas-docs/stable/user_guide/indexing.html#returning-a-view-versus-a-copy\n",
      "  airplane_model_cut[\"Weather.Condition\"] = airplane_model_cut[\"Weather.Condition\"].str.upper()\n"
     ]
    }
   ],
   "source": [
    "# Taking Weather conditions to all caps\n",
    "airplane_model_cut[\"Weather.Condition\"] = airplane_model_cut[\"Weather.Condition\"].str.upper()"
   ]
  },
  {
   "cell_type": "code",
   "execution_count": 155,
   "id": "ae28e592-5d82-49dc-b6f2-0292baedcd99",
   "metadata": {},
   "outputs": [
    {
     "data": {
      "text/plain": [
       "Weather.Condition\n",
       "VMC    48654\n",
       "IMC     4574\n",
       "UNK      786\n",
       "Name: count, dtype: int64"
      ]
     },
     "execution_count": 155,
     "metadata": {},
     "output_type": "execute_result"
    }
   ],
   "source": [
    "# Weather recheck\n",
    "airplane_model_cut[\"Weather.Condition\"].value_counts()"
   ]
  },
  {
   "cell_type": "code",
   "execution_count": 156,
   "id": "2cefad32-9198-4589-9aa6-ef9f244e11c0",
   "metadata": {},
   "outputs": [
    {
     "data": {
      "text/plain": [
       "Number.of.Engines\n",
       "1.0    43296\n",
       "2.0     8449\n",
       "3.0      422\n",
       "0.0      404\n",
       "4.0      379\n",
       "Name: count, dtype: int64"
      ]
     },
     "execution_count": 156,
     "metadata": {},
     "output_type": "execute_result"
    }
   ],
   "source": [
    "# number of engines check\n",
    "airplane_model_cut[\"Number.of.Engines\"].value_counts()"
   ]
  },
  {
   "cell_type": "code",
   "execution_count": 157,
   "id": "5843d79d-15d1-4105-9789-eaebebcb2fba",
   "metadata": {},
   "outputs": [],
   "source": [
    "# Removing rows with 0 engines listed\n",
    "airplane_model_cut = airplane_model_cut[airplane_model_cut[\"Number.of.Engines\"] != 0]"
   ]
  },
  {
   "cell_type": "code",
   "execution_count": 158,
   "id": "fc52a987-9a3e-446f-a4c5-3363a1422bee",
   "metadata": {},
   "outputs": [
    {
     "data": {
      "text/plain": [
       "Number.of.Engines\n",
       "1.0    43296\n",
       "2.0     8449\n",
       "3.0      422\n",
       "4.0      379\n",
       "Name: count, dtype: int64"
      ]
     },
     "execution_count": 158,
     "metadata": {},
     "output_type": "execute_result"
    }
   ],
   "source": [
    "# recheck\n",
    "airplane_model_cut[\"Number.of.Engines\"].value_counts()"
   ]
  },
  {
   "cell_type": "code",
   "execution_count": 159,
   "id": "b2b26764-1539-4895-b597-7f9193d34da8",
   "metadata": {},
   "outputs": [
    {
     "data": {
      "text/plain": [
       "Purpose.of.flight\n",
       "Personal                     29821\n",
       "Instructional                 7642\n",
       "Unknown                       4730\n",
       "Aerial Application            2960\n",
       "Business                      2823\n",
       "Positioning                   1106\n",
       "Other Work Use                 713\n",
       "Ferry                          477\n",
       "Public Aircraft                470\n",
       "Aerial Observation             444\n",
       "Executive/corporate            374\n",
       "Skydiving                      160\n",
       "Flight Test                    117\n",
       "Banner Tow                      70\n",
       "Public Aircraft - Federal       44\n",
       "Public Aircraft - State         26\n",
       "Glider Tow                      25\n",
       "Firefighting                    21\n",
       "Air Race/show                   15\n",
       "Public Aircraft - Local         14\n",
       "Air Race show                   13\n",
       "External Load                   12\n",
       "Air Drop                         5\n",
       "ASHO                             3\n",
       "PUBS                             2\n",
       "Name: count, dtype: int64"
      ]
     },
     "execution_count": 159,
     "metadata": {},
     "output_type": "execute_result"
    }
   ],
   "source": [
    "# Checking purpose of flight:\n",
    "airplane_model_cut[\"Purpose.of.flight\"].value_counts()"
   ]
  },
  {
   "cell_type": "code",
   "execution_count": 160,
   "id": "d056d229-3a1c-47cd-8908-61e02674adc4",
   "metadata": {},
   "outputs": [
    {
     "data": {
      "text/plain": [
       "Broad.phase.of.flight\n",
       "Landing        11777\n",
       "Takeoff         7855\n",
       "Cruise          6885\n",
       "Maneuvering     4808\n",
       "Approach        4014\n",
       "Taxi            1601\n",
       "Climb           1345\n",
       "Descent         1269\n",
       "Go-around        897\n",
       "Standing         751\n",
       "Unknown          360\n",
       "Other             71\n",
       "Name: count, dtype: int64"
      ]
     },
     "execution_count": 160,
     "metadata": {},
     "output_type": "execute_result"
    }
   ],
   "source": [
    "# Checking phase of flight:\n",
    "airplane_model_cut[\"Broad.phase.of.flight\"].value_counts()"
   ]
  },
  {
   "cell_type": "markdown",
   "id": "12ad63d9",
   "metadata": {},
   "source": [
    "### Column Removal\n",
    "- inspect the dataframe and drop any columns that have too many NaNs"
   ]
  },
  {
   "cell_type": "code",
   "execution_count": 161,
   "id": "5e1aeb03-5b93-4697-8bd8-0b30b1c7b349",
   "metadata": {},
   "outputs": [
    {
     "name": "stdout",
     "output_type": "stream",
     "text": [
      "<class 'pandas.core.frame.DataFrame'>\n",
      "Index: 55917 entries, 3608 to Model\n",
      "Data columns (total 35 columns):\n",
      " #   Column                  Non-Null Count  Dtype         \n",
      "---  ------                  --------------  -----         \n",
      " 0   Event.Id                55916 non-null  object        \n",
      " 1   Investigation.Type      55916 non-null  object        \n",
      " 2   Accident.Number         55916 non-null  object        \n",
      " 3   Event.Date              55916 non-null  datetime64[ns]\n",
      " 4   Location                55878 non-null  object        \n",
      " 5   Country                 55762 non-null  object        \n",
      " 6   Latitude                20587 non-null  object        \n",
      " 7   Longitude               20583 non-null  object        \n",
      " 8   Airport.Code            32896 non-null  object        \n",
      " 9   Airport.Name            34418 non-null  object        \n",
      " 10  Injury.Severity         55916 non-null  object        \n",
      " 11  Aircraft.damage         53893 non-null  object        \n",
      " 12  Aircraft.Category       55916 non-null  object        \n",
      " 13  Registration.Number     54864 non-null  object        \n",
      " 14  Make                    55916 non-null  object        \n",
      " 15  Model                   55916 non-null  object        \n",
      " 16  Number.of.Engines       52546 non-null  float64       \n",
      " 17  Engine.Type             52438 non-null  object        \n",
      " 18  FAR.Description         15238 non-null  object        \n",
      " 19  Schedule                8821 non-null   object        \n",
      " 20  Purpose.of.flight       52087 non-null  object        \n",
      " 21  Air.carrier             9582 non-null   object        \n",
      " 22  Total.Fatal.Injuries    55916 non-null  float64       \n",
      " 23  Total.Serious.Injuries  55916 non-null  float64       \n",
      " 24  Total.Minor.Injuries    55916 non-null  float64       \n",
      " 25  Total.Uninjured         55916 non-null  float64       \n",
      " 26  Weather.Condition       53610 non-null  object        \n",
      " 27  Broad.phase.of.flight   41633 non-null  object        \n",
      " 28  Report.Status           52871 non-null  object        \n",
      " 29  Publication.Date        46334 non-null  object        \n",
      " 30  Total.Passengers        55916 non-null  float64       \n",
      " 31  Fatality Ratio          55916 non-null  float64       \n",
      " 32  Serious Injury Ratio    55916 non-null  float64       \n",
      " 33  Aircraft Destroyed?     55916 non-null  object        \n",
      " 34  Make - Model            55916 non-null  object        \n",
      "dtypes: datetime64[ns](1), float64(8), object(26)\n",
      "memory usage: 15.4+ MB\n"
     ]
    }
   ],
   "source": [
    "airplane_model_cut.info()"
   ]
  },
  {
   "cell_type": "code",
   "execution_count": 162,
   "id": "13b268cb-90f1-4df0-b5d1-9ddf0db04756",
   "metadata": {},
   "outputs": [],
   "source": [
    "# Longitude, Latitude, Airport.Code, Airport.Name, FAR.Decription, Schedule, Air.Carrier removed\n",
    "# Reason: Greater than 20,000 null and not inherently relevant\n",
    "\n",
    "column_cut_df = airplane_model_cut.drop([\"Longitude\", \"Latitude\", \"Airport.Code\", \"Airport.Name\", \"FAR.Description\", \"Schedule\", \"Air.carrier\"], axis = 1)"
   ]
  },
  {
   "cell_type": "code",
   "execution_count": 163,
   "id": "f661bb21",
   "metadata": {},
   "outputs": [
    {
     "name": "stdout",
     "output_type": "stream",
     "text": [
      "<class 'pandas.core.frame.DataFrame'>\n",
      "Index: 55917 entries, 3608 to Model\n",
      "Data columns (total 28 columns):\n",
      " #   Column                  Non-Null Count  Dtype         \n",
      "---  ------                  --------------  -----         \n",
      " 0   Event.Id                55916 non-null  object        \n",
      " 1   Investigation.Type      55916 non-null  object        \n",
      " 2   Accident.Number         55916 non-null  object        \n",
      " 3   Event.Date              55916 non-null  datetime64[ns]\n",
      " 4   Location                55878 non-null  object        \n",
      " 5   Country                 55762 non-null  object        \n",
      " 6   Injury.Severity         55916 non-null  object        \n",
      " 7   Aircraft.damage         53893 non-null  object        \n",
      " 8   Aircraft.Category       55916 non-null  object        \n",
      " 9   Registration.Number     54864 non-null  object        \n",
      " 10  Make                    55916 non-null  object        \n",
      " 11  Model                   55916 non-null  object        \n",
      " 12  Number.of.Engines       52546 non-null  float64       \n",
      " 13  Engine.Type             52438 non-null  object        \n",
      " 14  Purpose.of.flight       52087 non-null  object        \n",
      " 15  Total.Fatal.Injuries    55916 non-null  float64       \n",
      " 16  Total.Serious.Injuries  55916 non-null  float64       \n",
      " 17  Total.Minor.Injuries    55916 non-null  float64       \n",
      " 18  Total.Uninjured         55916 non-null  float64       \n",
      " 19  Weather.Condition       53610 non-null  object        \n",
      " 20  Broad.phase.of.flight   41633 non-null  object        \n",
      " 21  Report.Status           52871 non-null  object        \n",
      " 22  Publication.Date        46334 non-null  object        \n",
      " 23  Total.Passengers        55916 non-null  float64       \n",
      " 24  Fatality Ratio          55916 non-null  float64       \n",
      " 25  Serious Injury Ratio    55916 non-null  float64       \n",
      " 26  Aircraft Destroyed?     55916 non-null  object        \n",
      " 27  Make - Model            55916 non-null  object        \n",
      "dtypes: datetime64[ns](1), float64(8), object(19)\n",
      "memory usage: 12.4+ MB\n"
     ]
    }
   ],
   "source": [
    "column_cut_df.info()"
   ]
  },
  {
   "cell_type": "markdown",
   "id": "750d48f1",
   "metadata": {},
   "source": [
    "### Save DataFrame to csv\n",
    "- its generally useful to save data to file/server after its in a sufficiently cleaned or intermediate state\n",
    "- the data can then be loaded directly in another notebook for further analysis\n",
    "- this helps keep your notebooks and workflow readable, clean and modularized"
   ]
  },
  {
   "cell_type": "code",
   "execution_count": 164,
   "id": "b425a512",
   "metadata": {},
   "outputs": [],
   "source": [
    "column_cut_df.to_csv(\"Cleaned_Accident_Data.csv\", index=False)"
   ]
  }
 ],
 "metadata": {
  "kernelspec": {
   "display_name": "Python 3 (ipykernel)",
   "language": "python",
   "name": "python3"
  },
  "language_info": {
   "codemirror_mode": {
    "name": "ipython",
    "version": 3
   },
   "file_extension": ".py",
   "mimetype": "text/x-python",
   "name": "python",
   "nbconvert_exporter": "python",
   "pygments_lexer": "ipython3",
   "version": "3.12.4"
  }
 },
 "nbformat": 4,
 "nbformat_minor": 5
}
