{
 "cells": [
  {
   "cell_type": "markdown",
   "id": "90b31a8c",
   "metadata": {},
   "source": [
    "# Aviation Accidents Analysis\n",
    "\n",
    "You are part of a consulting firm that is tasked to do an analysis of commercial and passenger jet airline safety. The client (an airline/airplane insurer) is interested in knowing what types of aircraft (makes/models) exhibit low rates of total destruction and low likelihood of fatal or serious passenger injuries in the event of an accident. They are also interested in any general variables/conditions that might be at play. Your analysis will be based off of aviation accident data accumulated from the years 1948-2023. \n",
    "\n",
    "Our client is only interested in airplane makes/models that are professional builds and could potentially still be active. Assume a max lifetime of 40 years for a make/model retirement and make sure to filter your data accordingly (i.e. from 1983 onwards). They would also like separate recommendations for small aircraft vs. larger passenger models. **In addition, make sure that claims that you make are statistically robust and that you have enough samples when making comparisons between groups.**\n",
    "\n",
    "\n",
    "In this summative assessment you will demonstrate your ability to:\n",
    "- Use Pandas to load, inspect, and clean the dataset appropriately. \n",
    "- Transform relevant columns to create measures that address the problem at hand.\n",
    "- **conduct EDA: visualization and statistical measures to understand the structure of the data**\n",
    "- **recommend a set of manufacturers to consider as well as specific airplanes conforming to the client's request**\n",
    "- **discuss the relationship between serious injuries/airplane damage incurred and at least *two* factors at play in the incident. You must provide supporting evidence (visuals, summary statistics, tables) for each claim you make.**"
   ]
  },
  {
   "cell_type": "code",
   "execution_count": 15,
   "id": "f41a5544",
   "metadata": {},
   "outputs": [],
   "source": [
    "# loading relevant packages\n",
    "import pandas as pd\n",
    "import numpy as np\n",
    "import matplotlib.pyplot as plt\n",
    "import seaborn as sns"
   ]
  },
  {
   "cell_type": "markdown",
   "id": "e5ce8ff6",
   "metadata": {},
   "source": [
    "## Exploratory Data Analysis  \n",
    "- Load in the cleaned data"
   ]
  },
  {
   "cell_type": "code",
   "execution_count": 16,
   "id": "149894c6",
   "metadata": {},
   "outputs": [
    {
     "data": {
      "text/html": [
       "<div>\n",
       "<style scoped>\n",
       "    .dataframe tbody tr th:only-of-type {\n",
       "        vertical-align: middle;\n",
       "    }\n",
       "\n",
       "    .dataframe tbody tr th {\n",
       "        vertical-align: top;\n",
       "    }\n",
       "\n",
       "    .dataframe thead th {\n",
       "        text-align: right;\n",
       "    }\n",
       "</style>\n",
       "<table border=\"1\" class=\"dataframe\">\n",
       "  <thead>\n",
       "    <tr style=\"text-align: right;\">\n",
       "      <th></th>\n",
       "      <th>Event.Id</th>\n",
       "      <th>Investigation.Type</th>\n",
       "      <th>Accident.Number</th>\n",
       "      <th>Event.Date</th>\n",
       "      <th>Location</th>\n",
       "      <th>Country</th>\n",
       "      <th>Injury.Severity</th>\n",
       "      <th>Aircraft.damage</th>\n",
       "      <th>Aircraft.Category</th>\n",
       "      <th>Registration.Number</th>\n",
       "      <th>...</th>\n",
       "      <th>Total.Uninjured</th>\n",
       "      <th>Weather.Condition</th>\n",
       "      <th>Broad.phase.of.flight</th>\n",
       "      <th>Report.Status</th>\n",
       "      <th>Publication.Date</th>\n",
       "      <th>Total.Passengers</th>\n",
       "      <th>Fatality Ratio</th>\n",
       "      <th>Serious Injury Ratio</th>\n",
       "      <th>Aircraft Destroyed?</th>\n",
       "      <th>Make - Model</th>\n",
       "    </tr>\n",
       "  </thead>\n",
       "  <tbody>\n",
       "    <tr>\n",
       "      <th>0</th>\n",
       "      <td>20001214X41937</td>\n",
       "      <td>Accident</td>\n",
       "      <td>CHI83FA069</td>\n",
       "      <td>1983-01-02</td>\n",
       "      <td>GENOA CITY, WI</td>\n",
       "      <td>United States</td>\n",
       "      <td>Fatal(2)</td>\n",
       "      <td>Destroyed</td>\n",
       "      <td>Airplane</td>\n",
       "      <td>N3168G</td>\n",
       "      <td>...</td>\n",
       "      <td>0.0</td>\n",
       "      <td>VMC</td>\n",
       "      <td>Maneuvering</td>\n",
       "      <td>Probable Cause</td>\n",
       "      <td>NaN</td>\n",
       "      <td>6.0</td>\n",
       "      <td>0.333333</td>\n",
       "      <td>0.333333</td>\n",
       "      <td>1.0</td>\n",
       "      <td>North american - T-6G</td>\n",
       "    </tr>\n",
       "    <tr>\n",
       "      <th>1</th>\n",
       "      <td>20001214X41919</td>\n",
       "      <td>Accident</td>\n",
       "      <td>ATL83FA081</td>\n",
       "      <td>1983-01-02</td>\n",
       "      <td>BEAUFORT, SC</td>\n",
       "      <td>United States</td>\n",
       "      <td>Fatal(3)</td>\n",
       "      <td>Destroyed</td>\n",
       "      <td>Airplane</td>\n",
       "      <td>N8066P</td>\n",
       "      <td>...</td>\n",
       "      <td>0.0</td>\n",
       "      <td>IMC</td>\n",
       "      <td>Cruise</td>\n",
       "      <td>Probable Cause</td>\n",
       "      <td>NaN</td>\n",
       "      <td>9.0</td>\n",
       "      <td>0.333333</td>\n",
       "      <td>0.333333</td>\n",
       "      <td>1.0</td>\n",
       "      <td>Piper - PA-24-250</td>\n",
       "    </tr>\n",
       "    <tr>\n",
       "      <th>2</th>\n",
       "      <td>20001214X42051</td>\n",
       "      <td>Accident</td>\n",
       "      <td>MIA83LA056</td>\n",
       "      <td>1983-01-02</td>\n",
       "      <td>NEAR VERO BEACH, FL</td>\n",
       "      <td>United States</td>\n",
       "      <td>Non-Fatal</td>\n",
       "      <td>Substantial</td>\n",
       "      <td>Airplane</td>\n",
       "      <td>N35590</td>\n",
       "      <td>...</td>\n",
       "      <td>2.0</td>\n",
       "      <td>VMC</td>\n",
       "      <td>Maneuvering</td>\n",
       "      <td>Probable Cause</td>\n",
       "      <td>NaN</td>\n",
       "      <td>2.0</td>\n",
       "      <td>0.000000</td>\n",
       "      <td>0.000000</td>\n",
       "      <td>0.0</td>\n",
       "      <td>Piper - PA-32-301R</td>\n",
       "    </tr>\n",
       "    <tr>\n",
       "      <th>3</th>\n",
       "      <td>20001214X41994</td>\n",
       "      <td>Accident</td>\n",
       "      <td>FTW83LA073</td>\n",
       "      <td>1983-01-02</td>\n",
       "      <td>BIG SPRING, TX</td>\n",
       "      <td>United States</td>\n",
       "      <td>Non-Fatal</td>\n",
       "      <td>Substantial</td>\n",
       "      <td>Airplane</td>\n",
       "      <td>N9435Q</td>\n",
       "      <td>...</td>\n",
       "      <td>3.0</td>\n",
       "      <td>VMC</td>\n",
       "      <td>Takeoff</td>\n",
       "      <td>Probable Cause</td>\n",
       "      <td>NaN</td>\n",
       "      <td>3.0</td>\n",
       "      <td>0.000000</td>\n",
       "      <td>0.000000</td>\n",
       "      <td>0.0</td>\n",
       "      <td>Beech - V-35B</td>\n",
       "    </tr>\n",
       "    <tr>\n",
       "      <th>4</th>\n",
       "      <td>20001214X41976</td>\n",
       "      <td>Accident</td>\n",
       "      <td>DEN83LA047</td>\n",
       "      <td>1983-01-02</td>\n",
       "      <td>VERNAL, UT</td>\n",
       "      <td>United States</td>\n",
       "      <td>Non-Fatal</td>\n",
       "      <td>Substantial</td>\n",
       "      <td>Airplane</td>\n",
       "      <td>N6732B</td>\n",
       "      <td>...</td>\n",
       "      <td>2.0</td>\n",
       "      <td>VMC</td>\n",
       "      <td>Takeoff</td>\n",
       "      <td>Probable Cause</td>\n",
       "      <td>NaN</td>\n",
       "      <td>2.0</td>\n",
       "      <td>0.000000</td>\n",
       "      <td>0.000000</td>\n",
       "      <td>0.0</td>\n",
       "      <td>Beech - A36</td>\n",
       "    </tr>\n",
       "  </tbody>\n",
       "</table>\n",
       "<p>5 rows × 28 columns</p>\n",
       "</div>"
      ],
      "text/plain": [
       "         Event.Id Investigation.Type Accident.Number  Event.Date  \\\n",
       "0  20001214X41937           Accident      CHI83FA069  1983-01-02   \n",
       "1  20001214X41919           Accident      ATL83FA081  1983-01-02   \n",
       "2  20001214X42051           Accident      MIA83LA056  1983-01-02   \n",
       "3  20001214X41994           Accident      FTW83LA073  1983-01-02   \n",
       "4  20001214X41976           Accident      DEN83LA047  1983-01-02   \n",
       "\n",
       "              Location        Country Injury.Severity Aircraft.damage  \\\n",
       "0       GENOA CITY, WI  United States        Fatal(2)       Destroyed   \n",
       "1         BEAUFORT, SC  United States        Fatal(3)       Destroyed   \n",
       "2  NEAR VERO BEACH, FL  United States       Non-Fatal     Substantial   \n",
       "3       BIG SPRING, TX  United States       Non-Fatal     Substantial   \n",
       "4           VERNAL, UT  United States       Non-Fatal     Substantial   \n",
       "\n",
       "  Aircraft.Category Registration.Number  ... Total.Uninjured  \\\n",
       "0          Airplane              N3168G  ...             0.0   \n",
       "1          Airplane              N8066P  ...             0.0   \n",
       "2          Airplane              N35590  ...             2.0   \n",
       "3          Airplane              N9435Q  ...             3.0   \n",
       "4          Airplane              N6732B  ...             2.0   \n",
       "\n",
       "  Weather.Condition  Broad.phase.of.flight   Report.Status Publication.Date  \\\n",
       "0               VMC            Maneuvering  Probable Cause              NaN   \n",
       "1               IMC                 Cruise  Probable Cause              NaN   \n",
       "2               VMC            Maneuvering  Probable Cause              NaN   \n",
       "3               VMC                Takeoff  Probable Cause              NaN   \n",
       "4               VMC                Takeoff  Probable Cause              NaN   \n",
       "\n",
       "   Total.Passengers  Fatality Ratio  Serious Injury Ratio  \\\n",
       "0               6.0        0.333333              0.333333   \n",
       "1               9.0        0.333333              0.333333   \n",
       "2               2.0        0.000000              0.000000   \n",
       "3               3.0        0.000000              0.000000   \n",
       "4               2.0        0.000000              0.000000   \n",
       "\n",
       "   Aircraft Destroyed?           Make - Model  \n",
       "0                  1.0  North american - T-6G  \n",
       "1                  1.0      Piper - PA-24-250  \n",
       "2                  0.0     Piper - PA-32-301R  \n",
       "3                  0.0          Beech - V-35B  \n",
       "4                  0.0            Beech - A36  \n",
       "\n",
       "[5 rows x 28 columns]"
      ]
     },
     "execution_count": 16,
     "metadata": {},
     "output_type": "execute_result"
    }
   ],
   "source": [
    "accident_data_df = pd.read_csv(\"Cleaned_Accident_Data.csv\")\n",
    "accident_data_df[\"Make\"]"
   ]
  },
  {
   "cell_type": "markdown",
   "id": "d3e993dc",
   "metadata": {},
   "source": [
    "## Explore safety metrics across models/makes\n",
    "- Remember that the client is interested in separate recommendations for smaller airplanes and larger airplanes. Choose a passenger threshold of 20 and separate the plane types. "
   ]
  },
  {
   "cell_type": "code",
   "execution_count": 17,
   "id": "a99e3af0",
   "metadata": {},
   "outputs": [],
   "source": [
    "#Dividing planes into less than 20 passengers and greater than and equal to 20\n",
    "large_plane_df = accident_data_df[accident_data_df[\"Total.Passengers\"] >= 20]\n",
    "small_plane_df = accident_data_df[accident_data_df[\"Total.Passengers\"] < 20]"
   ]
  },
  {
   "cell_type": "code",
   "execution_count": 18,
   "id": "e309f782-0675-4629-bb4e-1912fba7d74f",
   "metadata": {},
   "outputs": [
    {
     "name": "stdout",
     "output_type": "stream",
     "text": [
      "<class 'pandas.core.frame.DataFrame'>\n",
      "Index: 2762 entries, 7 to 55902\n",
      "Data columns (total 28 columns):\n",
      " #   Column                  Non-Null Count  Dtype  \n",
      "---  ------                  --------------  -----  \n",
      " 0   Event.Id                2762 non-null   object \n",
      " 1   Investigation.Type      2762 non-null   object \n",
      " 2   Accident.Number         2762 non-null   object \n",
      " 3   Event.Date              2762 non-null   object \n",
      " 4   Location                2756 non-null   object \n",
      " 5   Country                 2752 non-null   object \n",
      " 6   Injury.Severity         2762 non-null   object \n",
      " 7   Aircraft.damage         1637 non-null   object \n",
      " 8   Aircraft.Category       2762 non-null   object \n",
      " 9   Registration.Number     2533 non-null   object \n",
      " 10  Make                    2762 non-null   object \n",
      " 11  Model                   2762 non-null   object \n",
      " 12  Number.of.Engines       2125 non-null   float64\n",
      " 13  Engine.Type             2114 non-null   object \n",
      " 14  Purpose.of.flight       1352 non-null   object \n",
      " 15  Total.Fatal.Injuries    2762 non-null   float64\n",
      " 16  Total.Serious.Injuries  2762 non-null   float64\n",
      " 17  Total.Minor.Injuries    2762 non-null   float64\n",
      " 18  Total.Uninjured         2762 non-null   float64\n",
      " 19  Weather.Condition       2181 non-null   object \n",
      " 20  Broad.phase.of.flight   1539 non-null   object \n",
      " 21  Report.Status           2260 non-null   object \n",
      " 22  Publication.Date        2407 non-null   object \n",
      " 23  Total.Passengers        2762 non-null   float64\n",
      " 24  Fatality Ratio          2762 non-null   float64\n",
      " 25  Serious Injury Ratio    2762 non-null   float64\n",
      " 26  Aircraft Destroyed?     2762 non-null   float64\n",
      " 27  Make - Model            2762 non-null   object \n",
      "dtypes: float64(9), object(19)\n",
      "memory usage: 625.8+ KB\n"
     ]
    }
   ],
   "source": [
    "large_plane_df.info()"
   ]
  },
  {
   "cell_type": "code",
   "execution_count": 35,
   "id": "26fd6a29-3b5a-4041-93cb-f9a994a98819",
   "metadata": {},
   "outputs": [
    {
     "data": {
      "text/plain": [
       "Make\n",
       "Boeing                       1390\n",
       "Mcdonnell douglas             329\n",
       "Airbus industrie              133\n",
       "Airbus                        133\n",
       "Embraer                       114\n",
       "Douglas                        91\n",
       "Cessna                         80\n",
       "Beech                          61\n",
       "De havilland                   48\n",
       "Fokker                         46\n",
       "Bombardier inc                 46\n",
       "Lockheed                       41\n",
       "Aerospatiale                   39\n",
       "Bombardier                     38\n",
       "Piper                          36\n",
       "British aerospace              35\n",
       "Canadair                       22\n",
       "Fairchild                      15\n",
       "Bell                           11\n",
       "Swearingen                      8\n",
       "Grumman                         7\n",
       "Dehavilland                     5\n",
       "Aero commander                  4\n",
       "Pilatus                         4\n",
       "Learjet                         4\n",
       "Sikorsky                        3\n",
       "Gulfstream                      3\n",
       "Mitsubishi                      3\n",
       "Eurocopter                      2\n",
       "Let                             2\n",
       "Gates learjet                   2\n",
       "Mooney                          2\n",
       "Rockwell                        2\n",
       "North american                  1\n",
       "Raytheon aircraft company       1\n",
       "Hughes                          1\n",
       "Name: count, dtype: int64"
      ]
     },
     "execution_count": 35,
     "metadata": {},
     "output_type": "execute_result"
    }
   ],
   "source": [
    "large_plane_df[\"Make\"].value_counts()"
   ]
  },
  {
   "cell_type": "markdown",
   "id": "725c7e50",
   "metadata": {},
   "source": [
    "#### Analyzing Makes\n",
    "\n",
    "Explore the human injury risk profile for small and larger Makes:\n",
    "- choose the 15 makes for each group possessing the lowest mean fatal/seriously injured fraction\n",
    "- plot the mean fatal/seriously injured fraction for each of these subgroups side-by-side"
   ]
  },
  {
   "cell_type": "code",
   "execution_count": 39,
   "id": "0417acc2",
   "metadata": {},
   "outputs": [],
   "source": [
    "# Grouping large and small planes data by make\n",
    "large_plane_grouped = large_plane_df.groupby(\"Make\")[\"Fatality Ratio\"].mean()\n",
    "small_plane_grouped = small_plane_df.groupby(\"Make\")[\"Fatality Ratio\"].mean()\n",
    "\n",
    "# Sorting by ascending injury fraction\n",
    "sorted_large = large_plane_grouped.sort_values(ascending=True)\n",
    "sorted_small = small_plane_grouped.sort_values(ascending=True)"
   ]
  },
  {
   "cell_type": "code",
   "execution_count": 40,
   "id": "4d3aa9b4-555d-44db-b403-ad30c2fb0f62",
   "metadata": {},
   "outputs": [],
   "source": [
    "# Separating out the top 15 for each category\n",
    "top_15_large = sorted_large.head(15)\n",
    "top_15_small = sorted_small.head(15)"
   ]
  },
  {
   "cell_type": "code",
   "execution_count": 41,
   "id": "a4c038a6-ec25-42a2-9b6f-fe7fcfa88f4c",
   "metadata": {},
   "outputs": [
    {
     "data": {
      "image/png": "[encoded data removed]",
      "text/plain": [
       "<Figure size 640x480 with 1 Axes>"
      ]
     },
     "metadata": {},
     "output_type": "display_data"
    }
   ],
   "source": [
    "barplot_large = top_15_large.plot(kind=\"bar\")"
   ]
  },
  {
   "cell_type": "code",
   "execution_count": 42,
   "id": "3311d97d-b696-4498-b4c9-5f0ce2164967",
   "metadata": {},
   "outputs": [
    {
     "data": {
      "image/png": "[encoded data removed]",
      "text/plain": [
       "<Figure size 640x480 with 1 Axes>"
      ]
     },
     "metadata": {},
     "output_type": "display_data"
    }
   ],
   "source": [
    "barplot_small = top_15_small.plot(kind=\"bar\")"
   ]
  },
  {
   "cell_type": "markdown",
   "id": "2e09b89e",
   "metadata": {},
   "source": [
    "**Distribution of injury rates: small makes**\n",
    "\n",
    "Use a violinplot to look at the distribution of the fraction of passengers serious/fatally injured for small airplane makes. Just display makes with the ten lowest mean serious/fatal injury rates."
   ]
  },
  {
   "cell_type": "code",
   "execution_count": null,
   "id": "835fcc26",
   "metadata": {},
   "outputs": [],
   "source": []
  },
  {
   "cell_type": "markdown",
   "id": "dba86877",
   "metadata": {},
   "source": [
    "**Distribution of injury rates: large makes**\n",
    "\n",
    "Use a stripplot to look at the distribution of the fraction of passengers serious/fatally injured for large airplane makes. Just display makes with the ten lowest mean serious/fatal injury rates."
   ]
  },
  {
   "cell_type": "code",
   "execution_count": null,
   "id": "bd247956",
   "metadata": {},
   "outputs": [],
   "source": []
  },
  {
   "cell_type": "markdown",
   "id": "eaeab462",
   "metadata": {},
   "source": [
    "**Evaluate the rate of aircraft destruction for both small and large aircraft by Make.** \n",
    "\n",
    "Sort your results and keep the lowest 15."
   ]
  },
  {
   "cell_type": "code",
   "execution_count": null,
   "id": "e105e04c",
   "metadata": {},
   "outputs": [],
   "source": []
  },
  {
   "cell_type": "markdown",
   "id": "77c7232c",
   "metadata": {},
   "source": [
    "#### Provide a short discussion on your findings for your summary statistics and plots:\n",
    "- Make any recommendations for Makes here based off of the destroyed fraction and fraction fatally/seriously injured\n",
    "- Comment on the calculated statistics and any corresponding distributions you have visualized."
   ]
  },
  {
   "cell_type": "code",
   "execution_count": null,
   "id": "0c86d0e0",
   "metadata": {},
   "outputs": [],
   "source": []
  },
  {
   "cell_type": "markdown",
   "id": "40aecfef",
   "metadata": {},
   "source": [
    "### Analyze plane types\n",
    "- plot the mean fatal/seriously injured fraction for both small and larger planes \n",
    "- also provide a distributional plot of your choice for the fatal/seriously injured fraction by airplane type (stripplot, violin, etc)  \n",
    "- filter ensuring that you have at least ten individual examples in each model/make to average over"
   ]
  },
  {
   "cell_type": "markdown",
   "id": "8f1faa32",
   "metadata": {},
   "source": [
    "**Larger planes**"
   ]
  },
  {
   "cell_type": "code",
   "execution_count": null,
   "id": "2792d157",
   "metadata": {},
   "outputs": [],
   "source": []
  },
  {
   "cell_type": "markdown",
   "id": "c7bb10ce",
   "metadata": {},
   "source": [
    "**Smaller planes**\n",
    "- for smaller planes, limit your plotted results to the makes with the 10 lowest mean serious/fatal injury fractions"
   ]
  },
  {
   "cell_type": "code",
   "execution_count": null,
   "id": "d0590708",
   "metadata": {},
   "outputs": [],
   "source": []
  },
  {
   "cell_type": "markdown",
   "id": "727e14b5",
   "metadata": {},
   "source": [
    "### Discussion of Specific Airplane Types\n",
    "- Discuss what you have found above regarding passenger fraction seriously/ both small and large airplane models."
   ]
  },
  {
   "cell_type": "code",
   "execution_count": null,
   "id": "32675815",
   "metadata": {},
   "outputs": [],
   "source": []
  },
  {
   "cell_type": "markdown",
   "id": "91b39e09",
   "metadata": {},
   "source": [
    "### Exploring Other Variables\n",
    "- Investigate how other variables effect aircraft damage and injury. You must choose **two** factors out of the following but are free to analyze more:\n",
    "\n",
    "- Weather Condition\n",
    "- Engine Type\n",
    "- Number of Engines\n",
    "- Phase of Flight\n",
    "- Purpose of Flight\n",
    "\n",
    "For each factor provide a discussion explaining your analysis with appropriate visualization / data summaries and interpreting your findings."
   ]
  },
  {
   "cell_type": "code",
   "execution_count": null,
   "id": "2ce07617",
   "metadata": {},
   "outputs": [],
   "source": []
  }
 ],
 "metadata": {
  "kernelspec": {
   "display_name": "Python 3 (ipykernel)",
   "language": "python",
   "name": "python3"
  },
  "language_info": {
   "codemirror_mode": {
    "name": "ipython",
    "version": 3
   },
   "file_extension": ".py",
   "mimetype": "text/x-python",
   "name": "python",
   "nbconvert_exporter": "python",
   "pygments_lexer": "ipython3",
   "version": "3.12.4"
  }
 },
 "nbformat": 4,
 "nbformat_minor": 5
}
